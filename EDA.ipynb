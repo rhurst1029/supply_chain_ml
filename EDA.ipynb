{
 "cells": [
  {
   "cell_type": "markdown",
   "id": "70ab211b",
   "metadata": {},
   "source": [
    "# Importing Packages"
   ]
  },
  {
   "cell_type": "code",
   "execution_count": 1,
   "id": "e4323230",
   "metadata": {},
   "outputs": [],
   "source": [
    "# !pip install -r requirements.txt"
   ]
  },
  {
   "cell_type": "code",
   "execution_count": 2,
   "id": "bd2cf5c0",
   "metadata": {},
   "outputs": [],
   "source": [
    "import pandas as pd\n",
    "import numpy as np\n",
    "import seaborn as sns\n",
    "import matplotlib.pyplot as plt\n",
    "import statsmodels.api as sm\n",
    "import datetime as dt\n",
    "from sklearn.discriminant_analysis import LinearDiscriminantAnalysis,QuadraticDiscriminantAnalysis\n",
    "from sklearn.metrics import confusion_matrix\n",
    "from sklearn.model_selection import train_test_split\n",
    "from sklearn.naive_bayes import GaussianNB\n",
    "from sklearn import preprocessing\n",
    "from sklearn import model_selection\n",
    "from sklearn.tree import DecisionTreeRegressor\n",
    "from sklearn.metrics import roc_auc_score,r2_score,mean_absolute_error,mean_squared_error,accuracy_score,classification_report,confusion_matrix\n",
    "from sklearn.model_selection import train_test_split,cross_val_score, cross_val_predict\n",
    "from sklearn import svm,metrics,tree,preprocessing,linear_model\n",
    "from sklearn.preprocessing import MinMaxScaler,StandardScaler\n",
    "from sklearn.neighbors import KNeighborsClassifier\n",
    "from sklearn.linear_model import LinearRegression,LogisticRegression\n",
    "from sklearn.ensemble import RandomForestRegressor,RandomForestClassifier, GradientBoostingRegressor\n",
    "from sklearn.metrics import accuracy_score,mean_squared_error,recall_score,confusion_matrix,f1_score,roc_curve, auc\n",
    "from plotly.offline import iplot, init_notebook_mode\n",
    "import pickle\n",
    "import warnings\n",
    "warnings.filterwarnings(\"ignore\") \n",
    "import datetime as dt\n",
    "from datetime import datetime\n",
    "import plotly.express as px\n",
    "import ortools.constraint_solver\n",
    "from ortools.constraint_solver import routing_enums_pb2\n",
    "from ortools.constraint_solver import pywrapcp\n",
    "from scipy.optimize import linprog\n",
    "from pylab import rcParams\n",
    "import scipy\n",
    "from scipy.stats.stats import pearsonr\n",
    "import seaborn as sb\n",
    "from sklearn.preprocessing import LabelEncoder\n",
    "from sklearn.preprocessing import StandardScaler\n",
    "from sklearn.model_selection import train_test_split\n",
    "import seaborn as sns\n",
    "import matplotlib.pyplot as plt\n",
    "from sklearn import preprocessing\n",
    "from sklearn import utils\n",
    "from sklearn.metrics import top_k_accuracy_score\n",
    "from sklearn.metrics import classification_report"
   ]
  },
  {
   "cell_type": "markdown",
   "id": "a17652ad",
   "metadata": {},
   "source": [
    "# Defining standard functions:"
   ]
  },
  {
   "cell_type": "code",
   "execution_count": 3,
   "id": "1e3607ab",
   "metadata": {},
   "outputs": [],
   "source": [
    "# Import the 'sub' function from the 're' module for regular expression substitution\n",
    "from re import sub\n",
    "\n",
    "# Define a function to convert a string to snake case\n",
    "def snake_case(s):\n",
    "    # Replace hyphens with spaces, then apply regular expression substitutions for title case conversion\n",
    "    # and add an underscore between words, finally convert the result to lowercase\n",
    "    return '_'.join(\n",
    "        sub('([A-Z][a-z]+)', r' \\1',\n",
    "        sub('([A-Z]+)', r' \\1',\n",
    "        s.replace('-', ' '))).split()).lower()\n"
   ]
  },
  {
   "cell_type": "markdown",
   "id": "49af9abb",
   "metadata": {},
   "source": [
    "# Importing datadests"
   ]
  },
  {
   "cell_type": "code",
   "execution_count": 4,
   "id": "44c1acb8",
   "metadata": {},
   "outputs": [
    {
     "name": "stdout",
     "output_type": "stream",
     "text": [
      "['EDA.ipynb', 'requirements.txt', 'README.md', '.gitignore', '.ipynb_checkpoints', 'Supply chain logisitcs problem.xlsx', '.git']\n"
     ]
    }
   ],
   "source": [
    "import os\n",
    "print([i for i in os.listdir('./')])"
   ]
  },
  {
   "cell_type": "code",
   "execution_count": 5,
   "id": "0306d050-23ac-4347-ad08-7eddebb34438",
   "metadata": {},
   "outputs": [],
   "source": [
    "filename = 'Supply chain logisitcs problem.xlsx'\n",
    "# import kagglehub\n",
    "# # Download latest version\n",
    "# path = kagglehub.dataset_download(\"harshsingh2209/supply-chain-analysis\")\n",
    "# MPSCData=pd.read_csv(\"/kaggle/input/supply-chain-analysis/supply_chain_data.csv\")"
   ]
  },
  {
   "cell_type": "code",
   "execution_count": 6,
   "id": "f4286b9c",
   "metadata": {},
   "outputs": [
    {
     "name": "stdout",
     "output_type": "stream",
     "text": [
      "['OrderList', 'FreightRates', 'WhCosts', 'WhCapacities', 'ProductsPerPlant', 'VmiCustomers', 'PlantPorts']\n"
     ]
    }
   ],
   "source": [
    "import pandas as pd\n",
    "\n",
    "sheet_names = pd.ExcelFile(filename).sheet_names\n",
    "##['OrderList', 'FreightRates', 'WhCosts', 'WhCapacities', 'ProductsPerPlant', 'VmiCustomers', 'PlantPorts']\n",
    "print(sheet_names)"
   ]
  },
  {
   "cell_type": "markdown",
   "id": "dcd04556",
   "metadata": {},
   "source": [
    "## Dataset is divided into 7 tables:\n",
    "\n",
    "### OrderList\n",
    "All orders that needs to be assigned a route \n",
    "\n",
    "### FreightRates  \n",
    "Describes all available couriers, the weight gaps for each individual lane and rates associated.\n",
    "\n",
    "### PlantPorts\n",
    "Describes the allowed links between the warehouses and shipping ports in real world.\n",
    "\n",
    "### ProductsPerPlant\n",
    "Lists all supported warehouse-product combinations.\n",
    "\n",
    "### WhCapacities\n",
    "Lists warehouse capacities measured in number of orders per day.\n",
    "\n",
    "### WhCosts\n",
    "Specifies the cost associated in storing the products in given warehouse measured in dollars per unit.\n",
    "\n",
    "### VmiCustomers\n",
    "Lists all special cases, where warehouse is only allowed to support specific customer, while any other non-listed warehouse can supply any customer."
   ]
  },
  {
   "cell_type": "code",
   "execution_count": 7,
   "id": "54f2d2cd",
   "metadata": {},
   "outputs": [],
   "source": [
    "orders = pd.read_excel('Supply chain logisitcs problem.xlsx', sheet_name=sheet_names[0])\n",
    "freight_rates = pd.read_excel('Supply chain logisitcs problem.xlsx', sheet_name=sheet_names[1])\n",
    "plant_ports = pd.read_excel('Supply chain logisitcs problem.xlsx', sheet_name=sheet_names[6])\n",
    "products_per_plant = pd.read_excel('Supply chain logisitcs problem.xlsx', sheet_name=sheet_names[4])\n",
    "wh_capacities = pd.read_excel('Supply chain logisitcs problem.xlsx', sheet_name=sheet_names[3])\n",
    "wh_costs = pd.read_excel('Supply chain logisitcs problem.xlsx', sheet_name=sheet_names[2])\n",
    "vmi_customers = pd.read_excel('Supply chain logisitcs problem.xlsx', sheet_name=sheet_names[5])\n",
    "vmi_customers['vmi_special'] = 1"
   ]
  },
  {
   "cell_type": "markdown",
   "id": "0d85229b",
   "metadata": {},
   "source": [
    "### Joining all tables to get a primary table to use for subsequent EDA/ML"
   ]
  },
  {
   "cell_type": "code",
   "execution_count": 8,
   "id": "f9c55ab5",
   "metadata": {},
   "outputs": [],
   "source": [
    "orders.columns = [snake_case(i) for i in orders.columns]\n",
    "freight_rates.columns = [snake_case(i).replace('_cd', '') for i in freight_rates.columns]\n",
    "plant_ports.columns = [snake_case(i) for i in plant_ports.columns]\n",
    "products_per_plant.columns = [snake_case(i) for i in products_per_plant.columns]\n",
    "wh_capacities.columns = [snake_case(i) for i in wh_capacities.columns]\n",
    "wh_costs.columns = [snake_case(i) for i in wh_costs.columns]\n",
    "vmi_customers.columns = [snake_case(i) for i in vmi_customers.columns]\n",
    "vmi_customers.columns = [snake_case(i) for i in vmi_customers.columns]"
   ]
  },
  {
   "cell_type": "code",
   "execution_count": 9,
   "id": "c079a5c9",
   "metadata": {},
   "outputs": [],
   "source": [
    "freight_rates.rename(columns={'orig_port': 'origin', 'dest_port': 'destination', 'carrier': 'carrier'}, inplace=True)\n",
    "orders.rename(columns={'orig_port': 'origin', 'dest_port': 'destination', 'carrier': 'carrier'}, inplace=True)"
   ]
  },
  {
   "cell_type": "code",
   "execution_count": 10,
   "id": "d70502a5",
   "metadata": {},
   "outputs": [],
   "source": [
    "# orders.head(3)"
   ]
  },
  {
   "cell_type": "markdown",
   "id": "fa9a23d1",
   "metadata": {},
   "source": [
    "## We will set aside freight_rates for now and use it for mapping downline\n",
    "#### NOTE: freight rates maps carriers, ports, and destinations to rate by seeing if weight (from orders) falls into a range"
   ]
  },
  {
   "cell_type": "code",
   "execution_count": 11,
   "id": "a26190b1",
   "metadata": {},
   "outputs": [
    {
     "data": {
      "text/html": [
       "<div>\n",
       "<style scoped>\n",
       "    .dataframe tbody tr th:only-of-type {\n",
       "        vertical-align: middle;\n",
       "    }\n",
       "\n",
       "    .dataframe tbody tr th {\n",
       "        vertical-align: top;\n",
       "    }\n",
       "\n",
       "    .dataframe thead th {\n",
       "        text-align: right;\n",
       "    }\n",
       "</style>\n",
       "<table border=\"1\" class=\"dataframe\">\n",
       "  <thead>\n",
       "    <tr style=\"text-align: right;\">\n",
       "      <th></th>\n",
       "      <th>carrier</th>\n",
       "      <th>origin</th>\n",
       "      <th>destination</th>\n",
       "      <th>minm_wgh_qty</th>\n",
       "      <th>max_wgh_qty</th>\n",
       "      <th>svc</th>\n",
       "      <th>minimum_cost</th>\n",
       "      <th>rate</th>\n",
       "      <th>mode_dsc</th>\n",
       "      <th>tpt_day_cnt</th>\n",
       "      <th>carrier_type</th>\n",
       "    </tr>\n",
       "  </thead>\n",
       "  <tbody>\n",
       "    <tr>\n",
       "      <th>0</th>\n",
       "      <td>V444_6</td>\n",
       "      <td>PORT08</td>\n",
       "      <td>PORT09</td>\n",
       "      <td>250.0</td>\n",
       "      <td>499.99</td>\n",
       "      <td>DTD</td>\n",
       "      <td>43.2272</td>\n",
       "      <td>0.7132</td>\n",
       "      <td>AIR</td>\n",
       "      <td>2</td>\n",
       "      <td>V88888888_0</td>\n",
       "    </tr>\n",
       "    <tr>\n",
       "      <th>1</th>\n",
       "      <td>V444_6</td>\n",
       "      <td>PORT08</td>\n",
       "      <td>PORT09</td>\n",
       "      <td>65.0</td>\n",
       "      <td>69.99</td>\n",
       "      <td>DTD</td>\n",
       "      <td>43.2272</td>\n",
       "      <td>0.7512</td>\n",
       "      <td>AIR</td>\n",
       "      <td>2</td>\n",
       "      <td>V88888888_0</td>\n",
       "    </tr>\n",
       "    <tr>\n",
       "      <th>2</th>\n",
       "      <td>V444_6</td>\n",
       "      <td>PORT08</td>\n",
       "      <td>PORT09</td>\n",
       "      <td>60.0</td>\n",
       "      <td>64.99</td>\n",
       "      <td>DTD</td>\n",
       "      <td>43.2272</td>\n",
       "      <td>0.7892</td>\n",
       "      <td>AIR</td>\n",
       "      <td>2</td>\n",
       "      <td>V88888888_0</td>\n",
       "    </tr>\n",
       "  </tbody>\n",
       "</table>\n",
       "</div>"
      ],
      "text/plain": [
       "  carrier  origin destination  minm_wgh_qty  max_wgh_qty  svc  minimum_cost  \\\n",
       "0  V444_6  PORT08      PORT09         250.0       499.99  DTD       43.2272   \n",
       "1  V444_6  PORT08      PORT09          65.0        69.99  DTD       43.2272   \n",
       "2  V444_6  PORT08      PORT09          60.0        64.99  DTD       43.2272   \n",
       "\n",
       "     rate mode_dsc  tpt_day_cnt carrier_type  \n",
       "0  0.7132   AIR               2  V88888888_0  \n",
       "1  0.7512   AIR               2  V88888888_0  \n",
       "2  0.7892   AIR               2  V88888888_0  "
      ]
     },
     "execution_count": 11,
     "metadata": {},
     "output_type": "execute_result"
    }
   ],
   "source": [
    "freight_rates.head(3)"
   ]
  },
  {
   "cell_type": "markdown",
   "id": "7b83b141",
   "metadata": {},
   "source": [
    "# plant_ports & products_per_place have a matching unique id 'plant_code'\n",
    "## Joining both tables on 'plant_code' gives uus mapping from product -> warehouse -> port"
   ]
  },
  {
   "cell_type": "code",
   "execution_count": 12,
   "id": "6be7a578",
   "metadata": {},
   "outputs": [
    {
     "data": {
      "text/plain": [
       "(  plant_code    port\n",
       " 0    PLANT01  PORT01\n",
       " 1    PLANT01  PORT02\n",
       " 2    PLANT02  PORT03,\n",
       " (22, 2),\n",
       " 19)"
      ]
     },
     "execution_count": 12,
     "metadata": {},
     "output_type": "execute_result"
    }
   ],
   "source": [
    "plant_ports.head(3), plant_ports.shape, len(plant_ports.plant_code.unique())"
   ]
  },
  {
   "cell_type": "code",
   "execution_count": 13,
   "id": "c9b35a39",
   "metadata": {},
   "outputs": [
    {
     "data": {
      "text/plain": [
       "(  plant_code  product_id\n",
       " 0    PLANT15     1698815\n",
       " 1    PLANT17     1664419\n",
       " 2    PLANT17     1664426,\n",
       " (2036, 2),\n",
       " 19)"
      ]
     },
     "execution_count": 13,
     "metadata": {},
     "output_type": "execute_result"
    }
   ],
   "source": [
    "products_per_plant.head(3), products_per_plant.shape, len(products_per_plant.plant_code.unique())"
   ]
  },
  {
   "cell_type": "markdown",
   "id": "c096440c",
   "metadata": {},
   "source": [
    "## Joining orders with products_per_plant & plant_ports gives us mapping from product -> warehouse -> port\n",
    "#### Verified that port in plant_ports is the same as origin_port in orders\n",
    "### Joining orders on plant_code, product_id, and origin_port gives us mapping from product -> warehouse -> port for a given order"
   ]
  },
  {
   "cell_type": "code",
   "execution_count": null,
   "id": "b6b5845d",
   "metadata": {},
   "outputs": [
    {
     "data": {
      "text/html": [
       "<div>\n",
       "<style scoped>\n",
       "    .dataframe tbody tr th:only-of-type {\n",
       "        vertical-align: middle;\n",
       "    }\n",
       "\n",
       "    .dataframe tbody tr th {\n",
       "        vertical-align: top;\n",
       "    }\n",
       "\n",
       "    .dataframe thead th {\n",
       "        text-align: right;\n",
       "    }\n",
       "</style>\n",
       "<table border=\"1\" class=\"dataframe\">\n",
       "  <thead>\n",
       "    <tr style=\"text-align: right;\">\n",
       "      <th></th>\n",
       "      <th>order_id</th>\n",
       "      <th>order_date</th>\n",
       "      <th>origin_port</th>\n",
       "      <th>carrier</th>\n",
       "      <th>tpt</th>\n",
       "      <th>service_level</th>\n",
       "      <th>ship_ahead_day_count</th>\n",
       "      <th>ship_late_day_count</th>\n",
       "      <th>customer</th>\n",
       "      <th>product_id</th>\n",
       "      <th>plant_code</th>\n",
       "      <th>destination_port</th>\n",
       "      <th>unit_quantity</th>\n",
       "      <th>weight</th>\n",
       "    </tr>\n",
       "  </thead>\n",
       "  <tbody>\n",
       "    <tr>\n",
       "      <th>4249</th>\n",
       "      <td>1.447391e+09</td>\n",
       "      <td>2013-05-26</td>\n",
       "      <td>PORT04</td>\n",
       "      <td>V444_0</td>\n",
       "      <td>2</td>\n",
       "      <td>DTP</td>\n",
       "      <td>0</td>\n",
       "      <td>0</td>\n",
       "      <td>V55555_26</td>\n",
       "      <td>1613321</td>\n",
       "      <td>PLANT03</td>\n",
       "      <td>PORT09</td>\n",
       "      <td>328</td>\n",
       "      <td>0.068124</td>\n",
       "    </tr>\n",
       "    <tr>\n",
       "      <th>4250</th>\n",
       "      <td>1.447389e+09</td>\n",
       "      <td>2013-05-26</td>\n",
       "      <td>PORT04</td>\n",
       "      <td>V444_0</td>\n",
       "      <td>2</td>\n",
       "      <td>DTP</td>\n",
       "      <td>0</td>\n",
       "      <td>0</td>\n",
       "      <td>V55555_26</td>\n",
       "      <td>1613321</td>\n",
       "      <td>PLANT03</td>\n",
       "      <td>PORT09</td>\n",
       "      <td>342</td>\n",
       "      <td>0.340621</td>\n",
       "    </tr>\n",
       "    <tr>\n",
       "      <th>5327</th>\n",
       "      <td>1.447391e+09</td>\n",
       "      <td>2013-05-26</td>\n",
       "      <td>PORT04</td>\n",
       "      <td>V444_0</td>\n",
       "      <td>2</td>\n",
       "      <td>DTP</td>\n",
       "      <td>0</td>\n",
       "      <td>0</td>\n",
       "      <td>V555555555_27</td>\n",
       "      <td>1613321</td>\n",
       "      <td>PLANT03</td>\n",
       "      <td>PORT09</td>\n",
       "      <td>749</td>\n",
       "      <td>2.833970</td>\n",
       "    </tr>\n",
       "  </tbody>\n",
       "</table>\n",
       "</div>"
      ],
      "text/plain": [
       "          order_id order_date origin_port carrier  tpt service_level  \\\n",
       "4249  1.447391e+09 2013-05-26      PORT04  V444_0    2           DTP   \n",
       "4250  1.447389e+09 2013-05-26      PORT04  V444_0    2           DTP   \n",
       "5327  1.447391e+09 2013-05-26      PORT04  V444_0    2           DTP   \n",
       "\n",
       "      ship_ahead_day_count  ship_late_day_count       customer  product_id  \\\n",
       "4249                     0                    0      V55555_26     1613321   \n",
       "4250                     0                    0      V55555_26     1613321   \n",
       "5327                     0                    0  V555555555_27     1613321   \n",
       "\n",
       "     plant_code destination_port  unit_quantity    weight  \n",
       "4249    PLANT03           PORT09            328  0.068124  \n",
       "4250    PLANT03           PORT09            342  0.340621  \n",
       "5327    PLANT03           PORT09            749  2.833970  "
      ]
     },
     "execution_count": 14,
     "metadata": {},
     "output_type": "execute_result"
    }
   ],
   "source": [
    "orders[orders.product_id == 1613321].head(3)"
   ]
  },
  {
   "cell_type": "code",
   "execution_count": 15,
   "id": "515c1b5d",
   "metadata": {},
   "outputs": [
    {
     "data": {
      "text/html": [
       "<div>\n",
       "<style scoped>\n",
       "    .dataframe tbody tr th:only-of-type {\n",
       "        vertical-align: middle;\n",
       "    }\n",
       "\n",
       "    .dataframe tbody tr th {\n",
       "        vertical-align: top;\n",
       "    }\n",
       "\n",
       "    .dataframe thead th {\n",
       "        text-align: right;\n",
       "    }\n",
       "</style>\n",
       "<table border=\"1\" class=\"dataframe\">\n",
       "  <thead>\n",
       "    <tr style=\"text-align: right;\">\n",
       "      <th></th>\n",
       "      <th>order_id</th>\n",
       "      <th>order_date</th>\n",
       "      <th>origin_port</th>\n",
       "      <th>carrier</th>\n",
       "      <th>tpt</th>\n",
       "      <th>service_level</th>\n",
       "      <th>ship_ahead_day_count</th>\n",
       "      <th>ship_late_day_count</th>\n",
       "      <th>customer</th>\n",
       "      <th>product_id</th>\n",
       "      <th>plant_code</th>\n",
       "      <th>destination_port</th>\n",
       "      <th>unit_quantity</th>\n",
       "      <th>weight</th>\n",
       "    </tr>\n",
       "  </thead>\n",
       "  <tbody>\n",
       "    <tr>\n",
       "      <th>0</th>\n",
       "      <td>1.447296e+09</td>\n",
       "      <td>2013-05-26</td>\n",
       "      <td>PORT09</td>\n",
       "      <td>V44_3</td>\n",
       "      <td>1</td>\n",
       "      <td>CRF</td>\n",
       "      <td>3</td>\n",
       "      <td>0</td>\n",
       "      <td>V55555_53</td>\n",
       "      <td>1700106</td>\n",
       "      <td>PLANT16</td>\n",
       "      <td>PORT09</td>\n",
       "      <td>808</td>\n",
       "      <td>14.30</td>\n",
       "    </tr>\n",
       "    <tr>\n",
       "      <th>1</th>\n",
       "      <td>1.447158e+09</td>\n",
       "      <td>2013-05-26</td>\n",
       "      <td>PORT09</td>\n",
       "      <td>V44_3</td>\n",
       "      <td>1</td>\n",
       "      <td>CRF</td>\n",
       "      <td>3</td>\n",
       "      <td>0</td>\n",
       "      <td>V55555_53</td>\n",
       "      <td>1700106</td>\n",
       "      <td>PLANT16</td>\n",
       "      <td>PORT09</td>\n",
       "      <td>3188</td>\n",
       "      <td>87.94</td>\n",
       "    </tr>\n",
       "    <tr>\n",
       "      <th>2</th>\n",
       "      <td>1.447139e+09</td>\n",
       "      <td>2013-05-26</td>\n",
       "      <td>PORT09</td>\n",
       "      <td>V44_3</td>\n",
       "      <td>1</td>\n",
       "      <td>CRF</td>\n",
       "      <td>3</td>\n",
       "      <td>0</td>\n",
       "      <td>V55555_53</td>\n",
       "      <td>1700106</td>\n",
       "      <td>PLANT16</td>\n",
       "      <td>PORT09</td>\n",
       "      <td>2331</td>\n",
       "      <td>61.20</td>\n",
       "    </tr>\n",
       "  </tbody>\n",
       "</table>\n",
       "</div>"
      ],
      "text/plain": [
       "       order_id order_date origin_port carrier  tpt service_level  \\\n",
       "0  1.447296e+09 2013-05-26      PORT09   V44_3    1           CRF   \n",
       "1  1.447158e+09 2013-05-26      PORT09   V44_3    1           CRF   \n",
       "2  1.447139e+09 2013-05-26      PORT09   V44_3    1           CRF   \n",
       "\n",
       "   ship_ahead_day_count  ship_late_day_count   customer  product_id  \\\n",
       "0                     3                    0  V55555_53     1700106   \n",
       "1                     3                    0  V55555_53     1700106   \n",
       "2                     3                    0  V55555_53     1700106   \n",
       "\n",
       "  plant_code destination_port  unit_quantity  weight  \n",
       "0    PLANT16           PORT09            808   14.30  \n",
       "1    PLANT16           PORT09           3188   87.94  \n",
       "2    PLANT16           PORT09           2331   61.20  "
      ]
     },
     "execution_count": 15,
     "metadata": {},
     "output_type": "execute_result"
    }
   ],
   "source": [
    "prouct_port_plant = products_per_plant.merge(plant_ports, on='plant_code', how='left').rename(columns={'port': 'origin_port'})\n",
    "orders_port_plant = orders.merge(prouct_port_plant, on=['plant_code', 'product_id', 'origin_port'], how='left')\n",
    "orders_port_plant.head(3)\n",
    "## Now we have a mapping from product -> warehouse -> port for a given order"
   ]
  },
  {
   "cell_type": "code",
   "execution_count": 16,
   "id": "8d1e6138",
   "metadata": {},
   "outputs": [
    {
     "data": {
      "text/plain": [
       "((9215, 14), (9215, 14))"
      ]
     },
     "execution_count": 16,
     "metadata": {},
     "output_type": "execute_result"
    }
   ],
   "source": [
    "orders_port_plant.shape, orders.shape"
   ]
  },
  {
   "cell_type": "code",
   "execution_count": 17,
   "id": "f707d8fd",
   "metadata": {},
   "outputs": [
    {
     "data": {
      "text/html": [
       "<div>\n",
       "<style scoped>\n",
       "    .dataframe tbody tr th:only-of-type {\n",
       "        vertical-align: middle;\n",
       "    }\n",
       "\n",
       "    .dataframe tbody tr th {\n",
       "        vertical-align: top;\n",
       "    }\n",
       "\n",
       "    .dataframe thead th {\n",
       "        text-align: right;\n",
       "    }\n",
       "</style>\n",
       "<table border=\"1\" class=\"dataframe\">\n",
       "  <thead>\n",
       "    <tr style=\"text-align: right;\">\n",
       "      <th></th>\n",
       "      <th>order_id</th>\n",
       "      <th>order_date</th>\n",
       "      <th>origin_port</th>\n",
       "      <th>carrier</th>\n",
       "      <th>tpt</th>\n",
       "      <th>service_level</th>\n",
       "      <th>ship_ahead_day_count</th>\n",
       "      <th>ship_late_day_count</th>\n",
       "      <th>customer</th>\n",
       "      <th>product_id</th>\n",
       "      <th>plant_code</th>\n",
       "      <th>destination_port</th>\n",
       "      <th>unit_quantity</th>\n",
       "      <th>weight</th>\n",
       "    </tr>\n",
       "  </thead>\n",
       "  <tbody>\n",
       "    <tr>\n",
       "      <th>0</th>\n",
       "      <td>1447296446.7</td>\n",
       "      <td>2013-05-26</td>\n",
       "      <td>PORT09</td>\n",
       "      <td>V44_3</td>\n",
       "      <td>1</td>\n",
       "      <td>CRF</td>\n",
       "      <td>3</td>\n",
       "      <td>0</td>\n",
       "      <td>V55555_53</td>\n",
       "      <td>1700106</td>\n",
       "      <td>PLANT16</td>\n",
       "      <td>PORT09</td>\n",
       "      <td>808</td>\n",
       "      <td>14.30</td>\n",
       "    </tr>\n",
       "    <tr>\n",
       "      <th>1</th>\n",
       "      <td>1447158014.7</td>\n",
       "      <td>2013-05-26</td>\n",
       "      <td>PORT09</td>\n",
       "      <td>V44_3</td>\n",
       "      <td>1</td>\n",
       "      <td>CRF</td>\n",
       "      <td>3</td>\n",
       "      <td>0</td>\n",
       "      <td>V55555_53</td>\n",
       "      <td>1700106</td>\n",
       "      <td>PLANT16</td>\n",
       "      <td>PORT09</td>\n",
       "      <td>3188</td>\n",
       "      <td>87.94</td>\n",
       "    </tr>\n",
       "    <tr>\n",
       "      <th>2</th>\n",
       "      <td>1447138898.7</td>\n",
       "      <td>2013-05-26</td>\n",
       "      <td>PORT09</td>\n",
       "      <td>V44_3</td>\n",
       "      <td>1</td>\n",
       "      <td>CRF</td>\n",
       "      <td>3</td>\n",
       "      <td>0</td>\n",
       "      <td>V55555_53</td>\n",
       "      <td>1700106</td>\n",
       "      <td>PLANT16</td>\n",
       "      <td>PORT09</td>\n",
       "      <td>2331</td>\n",
       "      <td>61.20</td>\n",
       "    </tr>\n",
       "    <tr>\n",
       "      <th>3</th>\n",
       "      <td>1447363527.7</td>\n",
       "      <td>2013-05-26</td>\n",
       "      <td>PORT09</td>\n",
       "      <td>V44_3</td>\n",
       "      <td>1</td>\n",
       "      <td>CRF</td>\n",
       "      <td>3</td>\n",
       "      <td>0</td>\n",
       "      <td>V55555_53</td>\n",
       "      <td>1700106</td>\n",
       "      <td>PLANT16</td>\n",
       "      <td>PORT09</td>\n",
       "      <td>847</td>\n",
       "      <td>16.16</td>\n",
       "    </tr>\n",
       "    <tr>\n",
       "      <th>4</th>\n",
       "      <td>1447363980.7</td>\n",
       "      <td>2013-05-26</td>\n",
       "      <td>PORT09</td>\n",
       "      <td>V44_3</td>\n",
       "      <td>1</td>\n",
       "      <td>CRF</td>\n",
       "      <td>3</td>\n",
       "      <td>0</td>\n",
       "      <td>V55555_53</td>\n",
       "      <td>1700106</td>\n",
       "      <td>PLANT16</td>\n",
       "      <td>PORT09</td>\n",
       "      <td>2163</td>\n",
       "      <td>52.34</td>\n",
       "    </tr>\n",
       "    <tr>\n",
       "      <th>5</th>\n",
       "      <td>1447351440.7</td>\n",
       "      <td>2013-05-26</td>\n",
       "      <td>PORT09</td>\n",
       "      <td>V44_3</td>\n",
       "      <td>1</td>\n",
       "      <td>CRF</td>\n",
       "      <td>3</td>\n",
       "      <td>0</td>\n",
       "      <td>V55555_53</td>\n",
       "      <td>1700106</td>\n",
       "      <td>PLANT16</td>\n",
       "      <td>PORT09</td>\n",
       "      <td>3332</td>\n",
       "      <td>92.80</td>\n",
       "    </tr>\n",
       "    <tr>\n",
       "      <th>6</th>\n",
       "      <td>1447320235.7</td>\n",
       "      <td>2013-05-26</td>\n",
       "      <td>PORT09</td>\n",
       "      <td>V44_3</td>\n",
       "      <td>1</td>\n",
       "      <td>CRF</td>\n",
       "      <td>3</td>\n",
       "      <td>0</td>\n",
       "      <td>V55555_53</td>\n",
       "      <td>1700106</td>\n",
       "      <td>PLANT16</td>\n",
       "      <td>PORT09</td>\n",
       "      <td>1782</td>\n",
       "      <td>46.90</td>\n",
       "    </tr>\n",
       "    <tr>\n",
       "      <th>7</th>\n",
       "      <td>1447158018.7</td>\n",
       "      <td>2013-05-26</td>\n",
       "      <td>PORT09</td>\n",
       "      <td>V44_3</td>\n",
       "      <td>1</td>\n",
       "      <td>CRF</td>\n",
       "      <td>3</td>\n",
       "      <td>0</td>\n",
       "      <td>V55555_53</td>\n",
       "      <td>1700106</td>\n",
       "      <td>PLANT16</td>\n",
       "      <td>PORT09</td>\n",
       "      <td>427</td>\n",
       "      <td>2.86</td>\n",
       "    </tr>\n",
       "    <tr>\n",
       "      <th>8</th>\n",
       "      <td>1447219340.7</td>\n",
       "      <td>2013-05-26</td>\n",
       "      <td>PORT09</td>\n",
       "      <td>V44_3</td>\n",
       "      <td>1</td>\n",
       "      <td>CRF</td>\n",
       "      <td>3</td>\n",
       "      <td>0</td>\n",
       "      <td>V55555_53</td>\n",
       "      <td>1700106</td>\n",
       "      <td>PLANT16</td>\n",
       "      <td>PORT09</td>\n",
       "      <td>1291</td>\n",
       "      <td>26.60</td>\n",
       "    </tr>\n",
       "    <tr>\n",
       "      <th>9</th>\n",
       "      <td>1447398415.7</td>\n",
       "      <td>2013-05-26</td>\n",
       "      <td>PORT09</td>\n",
       "      <td>V44_3</td>\n",
       "      <td>1</td>\n",
       "      <td>CRF</td>\n",
       "      <td>3</td>\n",
       "      <td>0</td>\n",
       "      <td>V55555_53</td>\n",
       "      <td>1700106</td>\n",
       "      <td>PLANT16</td>\n",
       "      <td>PORT09</td>\n",
       "      <td>2294</td>\n",
       "      <td>62.20</td>\n",
       "    </tr>\n",
       "  </tbody>\n",
       "</table>\n",
       "</div>"
      ],
      "text/plain": [
       "       order_id order_date origin_port carrier  tpt service_level  \\\n",
       "0  1447296446.7 2013-05-26      PORT09   V44_3    1           CRF   \n",
       "1  1447158014.7 2013-05-26      PORT09   V44_3    1           CRF   \n",
       "2  1447138898.7 2013-05-26      PORT09   V44_3    1           CRF   \n",
       "3  1447363527.7 2013-05-26      PORT09   V44_3    1           CRF   \n",
       "4  1447363980.7 2013-05-26      PORT09   V44_3    1           CRF   \n",
       "5  1447351440.7 2013-05-26      PORT09   V44_3    1           CRF   \n",
       "6  1447320235.7 2013-05-26      PORT09   V44_3    1           CRF   \n",
       "7  1447158018.7 2013-05-26      PORT09   V44_3    1           CRF   \n",
       "8  1447219340.7 2013-05-26      PORT09   V44_3    1           CRF   \n",
       "9  1447398415.7 2013-05-26      PORT09   V44_3    1           CRF   \n",
       "\n",
       "   ship_ahead_day_count  ship_late_day_count   customer  product_id  \\\n",
       "0                     3                    0  V55555_53     1700106   \n",
       "1                     3                    0  V55555_53     1700106   \n",
       "2                     3                    0  V55555_53     1700106   \n",
       "3                     3                    0  V55555_53     1700106   \n",
       "4                     3                    0  V55555_53     1700106   \n",
       "5                     3                    0  V55555_53     1700106   \n",
       "6                     3                    0  V55555_53     1700106   \n",
       "7                     3                    0  V55555_53     1700106   \n",
       "8                     3                    0  V55555_53     1700106   \n",
       "9                     3                    0  V55555_53     1700106   \n",
       "\n",
       "  plant_code destination_port  unit_quantity  weight  \n",
       "0    PLANT16           PORT09            808   14.30  \n",
       "1    PLANT16           PORT09           3188   87.94  \n",
       "2    PLANT16           PORT09           2331   61.20  \n",
       "3    PLANT16           PORT09            847   16.16  \n",
       "4    PLANT16           PORT09           2163   52.34  \n",
       "5    PLANT16           PORT09           3332   92.80  \n",
       "6    PLANT16           PORT09           1782   46.90  \n",
       "7    PLANT16           PORT09            427    2.86  \n",
       "8    PLANT16           PORT09           1291   26.60  \n",
       "9    PLANT16           PORT09           2294   62.20  "
      ]
     },
     "execution_count": 17,
     "metadata": {},
     "output_type": "execute_result"
    }
   ],
   "source": [
    "### Converting order_id to string\n",
    "orders_port_plant['order_id'] = orders_port_plant['order_id'].astype(str)\n",
    "orders_port_plant.head(10)\n"
   ]
  },
  {
   "cell_type": "code",
   "execution_count": 18,
   "id": "4189a8a8",
   "metadata": {},
   "outputs": [
    {
     "data": {
      "text/plain": [
       "(  plant_id  daily_capacity\n",
       " 0  PLANT15              11\n",
       " 1  PLANT17               8\n",
       " 2  PLANT18             111,\n",
       " ' ',\n",
       "         wh  cost/unit\n",
       " 0  PLANT15   1.415063\n",
       " 1  PLANT17   0.428947\n",
       " 2  PLANT18   2.036254,\n",
       " (19, 2),\n",
       " (19, 2))"
      ]
     },
     "execution_count": 18,
     "metadata": {},
     "output_type": "execute_result"
    }
   ],
   "source": [
    "wh_capacities.head(3), ' ', wh_costs.head(3),  wh_capacities.shape, wh_costs.shape"
   ]
  },
  {
   "cell_type": "code",
   "execution_count": 19,
   "id": "4d710690",
   "metadata": {},
   "outputs": [],
   "source": [
    "wh_costs.rename(columns={'wh': 'plant_code'}, inplace=True)\n",
    "wh_capacities.rename(columns={'plant_id': 'plant_code'}, inplace=True)"
   ]
  },
  {
   "cell_type": "code",
   "execution_count": 20,
   "id": "3efb649f",
   "metadata": {},
   "outputs": [
    {
     "data": {
      "text/plain": [
       "(  plant_code  daily_capacity\n",
       " 0    PLANT15              11\n",
       " 1    PLANT17               8\n",
       " 2    PLANT18             111,\n",
       "   plant_code  cost/unit\n",
       " 0    PLANT15   1.415063\n",
       " 1    PLANT17   0.428947\n",
       " 2    PLANT18   2.036254,\n",
       " (19, 2),\n",
       " (19, 2))"
      ]
     },
     "execution_count": 20,
     "metadata": {},
     "output_type": "execute_result"
    }
   ],
   "source": [
    "wh_capacities.head(3), wh_costs.head(3), wh_capacities.shape, wh_costs.shape"
   ]
  },
  {
   "cell_type": "code",
   "execution_count": 21,
   "id": "6ec6ae9d",
   "metadata": {},
   "outputs": [
    {
     "data": {
      "text/plain": [
       "((19, 3),)"
      ]
     },
     "execution_count": 21,
     "metadata": {},
     "output_type": "execute_result"
    }
   ],
   "source": [
    "wh_data = wh_capacities.merge(wh_costs, on='plant_code', how='left')\n",
    "wh_data.shape,"
   ]
  },
  {
   "cell_type": "markdown",
   "id": "816932ca",
   "metadata": {},
   "source": [
    "### Merge wh_data with orders_port_plant on plant_code to get all but two tables in one table\n"
   ]
  },
  {
   "cell_type": "code",
   "execution_count": 22,
   "id": "1d586ec1",
   "metadata": {},
   "outputs": [],
   "source": [
    "order_master = orders_port_plant.merge(wh_data, on='plant_code', how='left')"
   ]
  },
  {
   "cell_type": "markdown",
   "id": "4fdbdbf5",
   "metadata": {},
   "source": [
    "## EDA On Order Master\n",
    "#### For the sake of simplicity, we are not going to use the vmi_customers table or the freight_rates table"
   ]
  },
  {
   "cell_type": "code",
   "execution_count": 23,
   "id": "3c0c45fe",
   "metadata": {},
   "outputs": [
    {
     "data": {
      "text/html": [
       "<div>\n",
       "<style scoped>\n",
       "    .dataframe tbody tr th:only-of-type {\n",
       "        vertical-align: middle;\n",
       "    }\n",
       "\n",
       "    .dataframe tbody tr th {\n",
       "        vertical-align: top;\n",
       "    }\n",
       "\n",
       "    .dataframe thead th {\n",
       "        text-align: right;\n",
       "    }\n",
       "</style>\n",
       "<table border=\"1\" class=\"dataframe\">\n",
       "  <thead>\n",
       "    <tr style=\"text-align: right;\">\n",
       "      <th></th>\n",
       "      <th>order_id</th>\n",
       "      <th>order_date</th>\n",
       "      <th>origin_port</th>\n",
       "      <th>carrier</th>\n",
       "      <th>tpt</th>\n",
       "      <th>service_level</th>\n",
       "      <th>ship_ahead_day_count</th>\n",
       "      <th>ship_late_day_count</th>\n",
       "      <th>customer</th>\n",
       "      <th>product_id</th>\n",
       "      <th>plant_code</th>\n",
       "      <th>destination_port</th>\n",
       "      <th>unit_quantity</th>\n",
       "      <th>weight</th>\n",
       "      <th>daily_capacity</th>\n",
       "      <th>cost/unit</th>\n",
       "    </tr>\n",
       "  </thead>\n",
       "  <tbody>\n",
       "    <tr>\n",
       "      <th>0</th>\n",
       "      <td>1447296446.7</td>\n",
       "      <td>2013-05-26</td>\n",
       "      <td>PORT09</td>\n",
       "      <td>V44_3</td>\n",
       "      <td>1</td>\n",
       "      <td>CRF</td>\n",
       "      <td>3</td>\n",
       "      <td>0</td>\n",
       "      <td>V55555_53</td>\n",
       "      <td>1700106</td>\n",
       "      <td>PLANT16</td>\n",
       "      <td>PORT09</td>\n",
       "      <td>808</td>\n",
       "      <td>14.30</td>\n",
       "      <td>457</td>\n",
       "      <td>1.919808</td>\n",
       "    </tr>\n",
       "    <tr>\n",
       "      <th>1</th>\n",
       "      <td>1447158014.7</td>\n",
       "      <td>2013-05-26</td>\n",
       "      <td>PORT09</td>\n",
       "      <td>V44_3</td>\n",
       "      <td>1</td>\n",
       "      <td>CRF</td>\n",
       "      <td>3</td>\n",
       "      <td>0</td>\n",
       "      <td>V55555_53</td>\n",
       "      <td>1700106</td>\n",
       "      <td>PLANT16</td>\n",
       "      <td>PORT09</td>\n",
       "      <td>3188</td>\n",
       "      <td>87.94</td>\n",
       "      <td>457</td>\n",
       "      <td>1.919808</td>\n",
       "    </tr>\n",
       "    <tr>\n",
       "      <th>2</th>\n",
       "      <td>1447138898.7</td>\n",
       "      <td>2013-05-26</td>\n",
       "      <td>PORT09</td>\n",
       "      <td>V44_3</td>\n",
       "      <td>1</td>\n",
       "      <td>CRF</td>\n",
       "      <td>3</td>\n",
       "      <td>0</td>\n",
       "      <td>V55555_53</td>\n",
       "      <td>1700106</td>\n",
       "      <td>PLANT16</td>\n",
       "      <td>PORT09</td>\n",
       "      <td>2331</td>\n",
       "      <td>61.20</td>\n",
       "      <td>457</td>\n",
       "      <td>1.919808</td>\n",
       "    </tr>\n",
       "  </tbody>\n",
       "</table>\n",
       "</div>"
      ],
      "text/plain": [
       "       order_id order_date origin_port carrier  tpt service_level  \\\n",
       "0  1447296446.7 2013-05-26      PORT09   V44_3    1           CRF   \n",
       "1  1447158014.7 2013-05-26      PORT09   V44_3    1           CRF   \n",
       "2  1447138898.7 2013-05-26      PORT09   V44_3    1           CRF   \n",
       "\n",
       "   ship_ahead_day_count  ship_late_day_count   customer  product_id  \\\n",
       "0                     3                    0  V55555_53     1700106   \n",
       "1                     3                    0  V55555_53     1700106   \n",
       "2                     3                    0  V55555_53     1700106   \n",
       "\n",
       "  plant_code destination_port  unit_quantity  weight  daily_capacity  \\\n",
       "0    PLANT16           PORT09            808   14.30             457   \n",
       "1    PLANT16           PORT09           3188   87.94             457   \n",
       "2    PLANT16           PORT09           2331   61.20             457   \n",
       "\n",
       "   cost/unit  \n",
       "0   1.919808  \n",
       "1   1.919808  \n",
       "2   1.919808  "
      ]
     },
     "execution_count": 23,
     "metadata": {},
     "output_type": "execute_result"
    }
   ],
   "source": [
    "order_master.head(3)"
   ]
  },
  {
   "cell_type": "markdown",
   "id": "95b8f21b",
   "metadata": {},
   "source": [
    "### Looking at order quantity, number of orders, average capacity and cost/unit"
   ]
  },
  {
   "cell_type": "code",
   "execution_count": 24,
   "id": "da261fbc",
   "metadata": {},
   "outputs": [
    {
     "data": {
      "image/png": "[encoded data removed]",
      "text/plain": [
       "<Figure size 1500x1000 with 4 Axes>"
      ]
     },
     "metadata": {},
     "output_type": "display_data"
    }
   ],
   "source": [
    "# Create subplots for different analyses\n",
    "# plt.style.use('seaborn')\n",
    "fig, axes = plt.subplots(2, 2, figsize=(15, 10))\n",
    "fig.suptitle('Order Analysis')\n",
    "\n",
    "# 1. Distribution of unit quantities per order\n",
    "sns.histplot(data=order_master, x='unit_quantity', bins=50, ax=axes[0,0])\n",
    "axes[0,0].set_title('Distribution of Order Quantities')\n",
    "axes[0,0].set_xlabel('Units per Order')\n",
    "axes[0,0].set_ylabel('Count')\n",
    "\n",
    "# 2. Distribution of order weights\n",
    "sns.histplot(data=order_master, x='weight', bins=50, ax=axes[0,1])\n",
    "axes[0,1].set_title('Distribution of Order Weights')\n",
    "axes[0,1].set_xlabel('Weight')\n",
    "axes[0,1].set_ylabel('Count')\n",
    "\n",
    "# 3. Orders by plant code\n",
    "order_counts = order_master['plant_code'].value_counts().head(10)\n",
    "order_counts.plot(kind='bar', ax=axes[1,0])\n",
    "axes[1,0].set_title('Number of Orders by Plant (Top 10)')\n",
    "axes[1,0].set_xlabel('Plant Code')\n",
    "axes[1,0].set_ylabel('Number of Orders')\n",
    "axes[1,0].tick_params(axis='x', rotation=45)\n",
    "\n",
    "# 4. Average cost/unit by plant\n",
    "avg_cost = order_master.groupby('plant_code')['cost/unit'].mean().sort_values(ascending=False).head(10)\n",
    "avg_cost.plot(kind='bar', ax=axes[1,1])\n",
    "axes[1,1].set_title('Average Cost per Unit by Plant (Top 10)')\n",
    "axes[1,1].set_xlabel('Plant Code')\n",
    "axes[1,1].set_ylabel('Average Cost per Unit')\n",
    "axes[1,1].tick_params(axis='x', rotation=45)\n",
    "\n",
    "# Adjust layout to prevent overlap\n",
    "plt.tight_layout(rect=[0, 0.03, 1, 0.95])\n",
    "\n",
    "# Show the plot\n",
    "plt.show()"
   ]
  },
  {
   "cell_type": "code",
   "execution_count": 32,
   "id": "0a1ecf5c",
   "metadata": {},
   "outputs": [
    {
     "data": {
      "image/png": "[encoded data removed]",
      "text/plain": [
       "<Figure size 1500x600 with 4 Axes>"
      ]
     },
     "metadata": {},
     "output_type": "display_data"
    }
   ],
   "source": [
    "# Group by different dimensions and calculate mean unit quantity\n",
    "unit_breakdowns = {\n",
    "    'By Customer': order_master.groupby('customer')['unit_quantity'].agg(['mean', 'count']).nlargest(10, 'mean'),\n",
    "    'By Product': order_master.groupby('product_id')['unit_quantity'].agg(['mean', 'count']).nlargest(10, 'mean'),\n",
    "    'By Plant': order_master.groupby('plant_code')['unit_quantity'].agg(['mean', 'count']).nlargest(10, 'mean'),\n",
    "    'By Carrier': order_master.groupby('carrier')['unit_quantity'].agg(['mean', 'count']).nlargest(10, 'mean')\n",
    "}\n",
    "\n",
    "# Create subplots\n",
    "fig, axes = plt.subplots(2, 2, figsize=(15, 6))\n",
    "fig.suptitle('Average Units per Order by Different Dimensions (Top 10)')\n",
    "\n",
    "# Plot each breakdown\n",
    "for (title, data), ax in zip(unit_breakdowns.items(), axes.ravel()):\n",
    "    data['mean'].plot(kind='bar', ax=ax)\n",
    "    ax.set_title(title)\n",
    "    ax.set_ylabel('Average Units')\n",
    "    ax.tick_params(axis='x', rotation=45)\n",
    "    \n",
    "    # Add count as text on top of bars\n",
    "    for i, (mean, count) in enumerate(zip(data['mean'], data['count'])):\n",
    "        ax.text(i, mean, f'n={count}', ha='center', va='bottom')\n",
    "\n",
    "# Adjust layout\n",
    "plt.tight_layout()\n",
    "\n",
    "# Show the plot\n",
    "plt.show()"
   ]
  },
  {
   "cell_type": "markdown",
   "id": "494d282f",
   "metadata": {},
   "source": [
    "## Which Origin -> Destination combinations have the most orders?"
   ]
  },
  {
   "cell_type": "code",
   "execution_count": 31,
   "id": "2d68eb89",
   "metadata": {},
   "outputs": [
    {
     "data": {
      "text/html": [
       "<div>\n",
       "<style scoped>\n",
       "    .dataframe tbody tr th:only-of-type {\n",
       "        vertical-align: middle;\n",
       "    }\n",
       "\n",
       "    .dataframe tbody tr th {\n",
       "        vertical-align: top;\n",
       "    }\n",
       "\n",
       "    .dataframe thead th {\n",
       "        text-align: right;\n",
       "    }\n",
       "</style>\n",
       "<table border=\"1\" class=\"dataframe\">\n",
       "  <thead>\n",
       "    <tr style=\"text-align: right;\">\n",
       "      <th></th>\n",
       "      <th>origin_port</th>\n",
       "      <th>destination_port</th>\n",
       "      <th>order_count</th>\n",
       "    </tr>\n",
       "  </thead>\n",
       "  <tbody>\n",
       "    <tr>\n",
       "      <th>0</th>\n",
       "      <td>PORT04</td>\n",
       "      <td>PORT09</td>\n",
       "      <td>9041</td>\n",
       "    </tr>\n",
       "    <tr>\n",
       "      <th>1</th>\n",
       "      <td>PORT05</td>\n",
       "      <td>PORT09</td>\n",
       "      <td>1</td>\n",
       "    </tr>\n",
       "    <tr>\n",
       "      <th>2</th>\n",
       "      <td>PORT09</td>\n",
       "      <td>PORT09</td>\n",
       "      <td>173</td>\n",
       "    </tr>\n",
       "  </tbody>\n",
       "</table>\n",
       "</div>"
      ],
      "text/plain": [
       "  origin_port destination_port  order_count\n",
       "0      PORT04           PORT09         9041\n",
       "1      PORT05           PORT09            1\n",
       "2      PORT09           PORT09          173"
      ]
     },
     "execution_count": 31,
     "metadata": {},
     "output_type": "execute_result"
    }
   ],
   "source": [
    "order_master[['origin_port', 'destination_port']].groupby(['origin_port', 'destination_port']).size().reset_index(name='order_count')"
   ]
  },
  {
   "cell_type": "code",
   "execution_count": 45,
   "id": "571ee9b3",
   "metadata": {},
   "outputs": [
    {
     "data": {
      "text/html": [
       "<div>\n",
       "<style scoped>\n",
       "    .dataframe tbody tr th:only-of-type {\n",
       "        vertical-align: middle;\n",
       "    }\n",
       "\n",
       "    .dataframe tbody tr th {\n",
       "        vertical-align: top;\n",
       "    }\n",
       "\n",
       "    .dataframe thead th {\n",
       "        text-align: right;\n",
       "    }\n",
       "</style>\n",
       "<table border=\"1\" class=\"dataframe\">\n",
       "  <thead>\n",
       "    <tr style=\"text-align: right;\">\n",
       "      <th></th>\n",
       "      <th>order_id</th>\n",
       "      <th>order_date</th>\n",
       "      <th>origin_port</th>\n",
       "      <th>carrier</th>\n",
       "      <th>tpt</th>\n",
       "      <th>service_level</th>\n",
       "      <th>ship_ahead_day_count</th>\n",
       "      <th>ship_late_day_count</th>\n",
       "      <th>customer</th>\n",
       "      <th>product_id</th>\n",
       "      <th>plant_code</th>\n",
       "      <th>destination_port</th>\n",
       "      <th>unit_quantity</th>\n",
       "      <th>weight</th>\n",
       "      <th>daily_capacity</th>\n",
       "      <th>cost/unit</th>\n",
       "    </tr>\n",
       "  </thead>\n",
       "  <tbody>\n",
       "    <tr>\n",
       "      <th>0</th>\n",
       "      <td>1447296446.7</td>\n",
       "      <td>2013-05-26</td>\n",
       "      <td>PORT09</td>\n",
       "      <td>V44_3</td>\n",
       "      <td>1</td>\n",
       "      <td>CRF</td>\n",
       "      <td>3</td>\n",
       "      <td>0</td>\n",
       "      <td>V55555_53</td>\n",
       "      <td>1700106</td>\n",
       "      <td>PLANT16</td>\n",
       "      <td>PORT09</td>\n",
       "      <td>808</td>\n",
       "      <td>14.30</td>\n",
       "      <td>457</td>\n",
       "      <td>1.919808</td>\n",
       "    </tr>\n",
       "    <tr>\n",
       "      <th>1</th>\n",
       "      <td>1447158014.7</td>\n",
       "      <td>2013-05-26</td>\n",
       "      <td>PORT09</td>\n",
       "      <td>V44_3</td>\n",
       "      <td>1</td>\n",
       "      <td>CRF</td>\n",
       "      <td>3</td>\n",
       "      <td>0</td>\n",
       "      <td>V55555_53</td>\n",
       "      <td>1700106</td>\n",
       "      <td>PLANT16</td>\n",
       "      <td>PORT09</td>\n",
       "      <td>3188</td>\n",
       "      <td>87.94</td>\n",
       "      <td>457</td>\n",
       "      <td>1.919808</td>\n",
       "    </tr>\n",
       "    <tr>\n",
       "      <th>2</th>\n",
       "      <td>1447138898.7</td>\n",
       "      <td>2013-05-26</td>\n",
       "      <td>PORT09</td>\n",
       "      <td>V44_3</td>\n",
       "      <td>1</td>\n",
       "      <td>CRF</td>\n",
       "      <td>3</td>\n",
       "      <td>0</td>\n",
       "      <td>V55555_53</td>\n",
       "      <td>1700106</td>\n",
       "      <td>PLANT16</td>\n",
       "      <td>PORT09</td>\n",
       "      <td>2331</td>\n",
       "      <td>61.20</td>\n",
       "      <td>457</td>\n",
       "      <td>1.919808</td>\n",
       "    </tr>\n",
       "    <tr>\n",
       "      <th>3</th>\n",
       "      <td>1447363527.7</td>\n",
       "      <td>2013-05-26</td>\n",
       "      <td>PORT09</td>\n",
       "      <td>V44_3</td>\n",
       "      <td>1</td>\n",
       "      <td>CRF</td>\n",
       "      <td>3</td>\n",
       "      <td>0</td>\n",
       "      <td>V55555_53</td>\n",
       "      <td>1700106</td>\n",
       "      <td>PLANT16</td>\n",
       "      <td>PORT09</td>\n",
       "      <td>847</td>\n",
       "      <td>16.16</td>\n",
       "      <td>457</td>\n",
       "      <td>1.919808</td>\n",
       "    </tr>\n",
       "    <tr>\n",
       "      <th>4</th>\n",
       "      <td>1447363980.7</td>\n",
       "      <td>2013-05-26</td>\n",
       "      <td>PORT09</td>\n",
       "      <td>V44_3</td>\n",
       "      <td>1</td>\n",
       "      <td>CRF</td>\n",
       "      <td>3</td>\n",
       "      <td>0</td>\n",
       "      <td>V55555_53</td>\n",
       "      <td>1700106</td>\n",
       "      <td>PLANT16</td>\n",
       "      <td>PORT09</td>\n",
       "      <td>2163</td>\n",
       "      <td>52.34</td>\n",
       "      <td>457</td>\n",
       "      <td>1.919808</td>\n",
       "    </tr>\n",
       "  </tbody>\n",
       "</table>\n",
       "</div>"
      ],
      "text/plain": [
       "       order_id order_date origin_port carrier  tpt service_level  \\\n",
       "0  1447296446.7 2013-05-26      PORT09   V44_3    1           CRF   \n",
       "1  1447158014.7 2013-05-26      PORT09   V44_3    1           CRF   \n",
       "2  1447138898.7 2013-05-26      PORT09   V44_3    1           CRF   \n",
       "3  1447363527.7 2013-05-26      PORT09   V44_3    1           CRF   \n",
       "4  1447363980.7 2013-05-26      PORT09   V44_3    1           CRF   \n",
       "\n",
       "   ship_ahead_day_count  ship_late_day_count   customer  product_id  \\\n",
       "0                     3                    0  V55555_53     1700106   \n",
       "1                     3                    0  V55555_53     1700106   \n",
       "2                     3                    0  V55555_53     1700106   \n",
       "3                     3                    0  V55555_53     1700106   \n",
       "4                     3                    0  V55555_53     1700106   \n",
       "\n",
       "  plant_code destination_port  unit_quantity  weight  daily_capacity  \\\n",
       "0    PLANT16           PORT09            808   14.30             457   \n",
       "1    PLANT16           PORT09           3188   87.94             457   \n",
       "2    PLANT16           PORT09           2331   61.20             457   \n",
       "3    PLANT16           PORT09            847   16.16             457   \n",
       "4    PLANT16           PORT09           2163   52.34             457   \n",
       "\n",
       "   cost/unit  \n",
       "0   1.919808  \n",
       "1   1.919808  \n",
       "2   1.919808  \n",
       "3   1.919808  \n",
       "4   1.919808  "
      ]
     },
     "execution_count": 45,
     "metadata": {},
     "output_type": "execute_result"
    }
   ],
   "source": [
    "order_master.head()"
   ]
  },
  {
   "cell_type": "markdown",
   "id": "1958c971",
   "metadata": {},
   "source": [
    "# Findings:\n",
    "#### Columns we will filter \n",
    "1. Dataset only contains orders for 1 date\n",
    "2. 9041/9215 observations are port 4 -> port 9, otherwise port9 -> port9\n",
    "#### Columns that are more useful:\n",
    "1. plant_code, carrier, customer"
   ]
  },
  {
   "cell_type": "code",
   "execution_count": null,
   "id": "3c4e3997",
   "metadata": {},
   "outputs": [],
   "source": []
  },
  {
   "cell_type": "code",
   "execution_count": null,
   "id": "eea5f9e3",
   "metadata": {},
   "outputs": [],
   "source": []
  },
  {
   "cell_type": "code",
   "execution_count": 18,
   "id": "2d16b828",
   "metadata": {},
   "outputs": [
    {
     "ename": "KeyError",
     "evalue": "\"['orig_port', 'dest_port'] not in index\"",
     "output_type": "error",
     "traceback": [
      "\u001b[0;31m---------------------------------------------------------------------------\u001b[0m",
      "\u001b[0;31mKeyError\u001b[0m                                  Traceback (most recent call last)",
      "Cell \u001b[0;32mIn[18], line 2\u001b[0m\n\u001b[1;32m      1\u001b[0m \u001b[38;5;28;01mimport\u001b[39;00m \u001b[38;5;21;01mnetworkx\u001b[39;00m \u001b[38;5;28;01mas\u001b[39;00m \u001b[38;5;21;01mnx\u001b[39;00m\n\u001b[0;32m----> 2\u001b[0m G\u001b[38;5;241m=\u001b[39mnx\u001b[38;5;241m.\u001b[39mfrom_pandas_edgelist(freight_rates[[\u001b[38;5;124m\"\u001b[39m\u001b[38;5;124morig_port\u001b[39m\u001b[38;5;124m\"\u001b[39m, \u001b[38;5;124m\"\u001b[39m\u001b[38;5;124mdest_port\u001b[39m\u001b[38;5;124m\"\u001b[39m, \u001b[38;5;124m'\u001b[39m\u001b[38;5;124mrate\u001b[39m\u001b[38;5;124m'\u001b[39m]]\u001b[38;5;241m.\u001b[39mgroupby([\u001b[38;5;124m'\u001b[39m\u001b[38;5;124morig_port\u001b[39m\u001b[38;5;124m'\u001b[39m, \u001b[38;5;124m'\u001b[39m\u001b[38;5;124mdest_port\u001b[39m\u001b[38;5;124m'\u001b[39m])\u001b[38;5;241m.\u001b[39mmean()\u001b[38;5;241m.\u001b[39mreset_index(), \u001b[38;5;124m\"\u001b[39m\u001b[38;5;124morig_port\u001b[39m\u001b[38;5;124m\"\u001b[39m, \u001b[38;5;124m\"\u001b[39m\u001b[38;5;124mdest_port\u001b[39m\u001b[38;5;124m\"\u001b[39m, edge_attr \u001b[38;5;241m=\u001b[39m \u001b[38;5;124m'\u001b[39m\u001b[38;5;124mrate\u001b[39m\u001b[38;5;124m'\u001b[39m,create_using\u001b[38;5;241m=\u001b[39mnx\u001b[38;5;241m.\u001b[39mMultiGraph())\n\u001b[1;32m      3\u001b[0m \u001b[38;5;66;03m# Set the figure size\u001b[39;00m\n\u001b[1;32m      4\u001b[0m plt\u001b[38;5;241m.\u001b[39mfigure(figsize\u001b[38;5;241m=\u001b[39m(\u001b[38;5;241m20\u001b[39m, \u001b[38;5;241m12\u001b[39m))\n",
      "File \u001b[0;32m/usr/local/anaconda3/lib/python3.11/site-packages/pandas/core/frame.py:3899\u001b[0m, in \u001b[0;36mDataFrame.__getitem__\u001b[0;34m(self, key)\u001b[0m\n\u001b[1;32m   3897\u001b[0m     \u001b[38;5;28;01mif\u001b[39;00m is_iterator(key):\n\u001b[1;32m   3898\u001b[0m         key \u001b[38;5;241m=\u001b[39m \u001b[38;5;28mlist\u001b[39m(key)\n\u001b[0;32m-> 3899\u001b[0m     indexer \u001b[38;5;241m=\u001b[39m \u001b[38;5;28mself\u001b[39m\u001b[38;5;241m.\u001b[39mcolumns\u001b[38;5;241m.\u001b[39m_get_indexer_strict(key, \u001b[38;5;124m\"\u001b[39m\u001b[38;5;124mcolumns\u001b[39m\u001b[38;5;124m\"\u001b[39m)[\u001b[38;5;241m1\u001b[39m]\n\u001b[1;32m   3901\u001b[0m \u001b[38;5;66;03m# take() does not accept boolean indexers\u001b[39;00m\n\u001b[1;32m   3902\u001b[0m \u001b[38;5;28;01mif\u001b[39;00m \u001b[38;5;28mgetattr\u001b[39m(indexer, \u001b[38;5;124m\"\u001b[39m\u001b[38;5;124mdtype\u001b[39m\u001b[38;5;124m\"\u001b[39m, \u001b[38;5;28;01mNone\u001b[39;00m) \u001b[38;5;241m==\u001b[39m \u001b[38;5;28mbool\u001b[39m:\n",
      "File \u001b[0;32m/usr/local/anaconda3/lib/python3.11/site-packages/pandas/core/indexes/base.py:6115\u001b[0m, in \u001b[0;36mIndex._get_indexer_strict\u001b[0;34m(self, key, axis_name)\u001b[0m\n\u001b[1;32m   6112\u001b[0m \u001b[38;5;28;01melse\u001b[39;00m:\n\u001b[1;32m   6113\u001b[0m     keyarr, indexer, new_indexer \u001b[38;5;241m=\u001b[39m \u001b[38;5;28mself\u001b[39m\u001b[38;5;241m.\u001b[39m_reindex_non_unique(keyarr)\n\u001b[0;32m-> 6115\u001b[0m \u001b[38;5;28mself\u001b[39m\u001b[38;5;241m.\u001b[39m_raise_if_missing(keyarr, indexer, axis_name)\n\u001b[1;32m   6117\u001b[0m keyarr \u001b[38;5;241m=\u001b[39m \u001b[38;5;28mself\u001b[39m\u001b[38;5;241m.\u001b[39mtake(indexer)\n\u001b[1;32m   6118\u001b[0m \u001b[38;5;28;01mif\u001b[39;00m \u001b[38;5;28misinstance\u001b[39m(key, Index):\n\u001b[1;32m   6119\u001b[0m     \u001b[38;5;66;03m# GH 42790 - Preserve name from an Index\u001b[39;00m\n",
      "File \u001b[0;32m/usr/local/anaconda3/lib/python3.11/site-packages/pandas/core/indexes/base.py:6179\u001b[0m, in \u001b[0;36mIndex._raise_if_missing\u001b[0;34m(self, key, indexer, axis_name)\u001b[0m\n\u001b[1;32m   6176\u001b[0m     \u001b[38;5;28;01mraise\u001b[39;00m \u001b[38;5;167;01mKeyError\u001b[39;00m(\u001b[38;5;124mf\u001b[39m\u001b[38;5;124m\"\u001b[39m\u001b[38;5;124mNone of [\u001b[39m\u001b[38;5;132;01m{\u001b[39;00mkey\u001b[38;5;132;01m}\u001b[39;00m\u001b[38;5;124m] are in the [\u001b[39m\u001b[38;5;132;01m{\u001b[39;00maxis_name\u001b[38;5;132;01m}\u001b[39;00m\u001b[38;5;124m]\u001b[39m\u001b[38;5;124m\"\u001b[39m)\n\u001b[1;32m   6178\u001b[0m not_found \u001b[38;5;241m=\u001b[39m \u001b[38;5;28mlist\u001b[39m(ensure_index(key)[missing_mask\u001b[38;5;241m.\u001b[39mnonzero()[\u001b[38;5;241m0\u001b[39m]]\u001b[38;5;241m.\u001b[39munique())\n\u001b[0;32m-> 6179\u001b[0m \u001b[38;5;28;01mraise\u001b[39;00m \u001b[38;5;167;01mKeyError\u001b[39;00m(\u001b[38;5;124mf\u001b[39m\u001b[38;5;124m\"\u001b[39m\u001b[38;5;132;01m{\u001b[39;00mnot_found\u001b[38;5;132;01m}\u001b[39;00m\u001b[38;5;124m not in index\u001b[39m\u001b[38;5;124m\"\u001b[39m)\n",
      "\u001b[0;31mKeyError\u001b[0m: \"['orig_port', 'dest_port'] not in index\""
     ]
    }
   ],
   "source": [
    "import networkx as nx\n",
    "G=nx.from_pandas_edgelist(freight_rates[[\"orig_port\", \"dest_port\", 'rate']].groupby(['orig_port', 'dest_port']).mean().reset_index(), \"orig_port\", \"dest_port\", edge_attr = 'rate',create_using=nx.MultiGraph())\n",
    "# Set the figure size\n",
    "plt.figure(figsize=(20, 12))\n",
    "\n",
    "# If G is a multigraph, create a simple graph version\n",
    "G_simple = nx.Graph(G)  # This will keep only one edge between each pair of nodes\n",
    "\n",
    "# Get the layout for the simple graph\n",
    "pos = nx.spring_layout(G_simple, k=1.5)\n",
    "\n",
    "# Get edge labels (make sure to use the simple graph)\n",
    "edge_labels = nx.get_edge_attributes(G_simple, 'rate')  # or whatever attribute you're using for labels\n",
    "\n",
    "# Draw the graph\n",
    "nx.draw_networkx_nodes(G_simple, pos)\n",
    "nx.draw_networkx_edges(G_simple, pos)\n",
    "nx.draw_networkx_edge_labels(G_simple, pos, edge_labels=edge_labels, font_size=15)\n",
    "nx.draw_networkx_labels(G_simple, pos, font_size=10)\n",
    "\n",
    "# Add padding around the graph\n",
    "plt.margins(0.2)\n",
    "\n",
    "# Ensure the layout fills the figure\n",
    "plt.tight_layout()\n",
    "\n",
    "# Show the plot\n",
    "plt.show()"
   ]
  },
  {
   "cell_type": "code",
   "execution_count": 13,
   "id": "b919af8b",
   "metadata": {},
   "outputs": [
    {
     "data": {
      "text/plain": [
       "((1540, 11), (9215, 14), (22, 2), (2036, 2), (19, 2), (19, 2), (14, 3))"
      ]
     },
     "execution_count": 13,
     "metadata": {},
     "output_type": "execute_result"
    }
   ],
   "source": [
    "freight_rates.shape, orders.shape, plant_ports.shape, products_per_plant.shape, wh_capacities.shape, wh_costs.shape, vmi_customers.shape\n"
   ]
  },
  {
   "cell_type": "code",
   "execution_count": 14,
   "id": "a6e247ab",
   "metadata": {},
   "outputs": [
    {
     "data": {
      "text/plain": [
       "(['carrier'],\n",
       " ['plant_code'],\n",
       " ['plant_code', 'product_id'],\n",
       " [],\n",
       " [],\n",
       " ['plant_code'])"
      ]
     },
     "execution_count": 14,
     "metadata": {},
     "output_type": "execute_result"
    }
   ],
   "source": [
    "[i for i in freight_rates.columns if i in orders.columns], [i for i in plant_ports.columns if i in orders.columns] \\\n",
    "    , [i for i in products_per_plant.columns if i in orders.columns]\\\n",
    "        , [i for i in wh_capacities.columns if i in orders.columns]\\\n",
    "            , [i for i in wh_costs.columns if i in orders.columns]\\\n",
    "                , [i for i in vmi_customers.columns if i in orders.columns]"
   ]
  },
  {
   "cell_type": "code",
   "execution_count": 15,
   "id": "503c75e1",
   "metadata": {},
   "outputs": [
    {
     "data": {
      "text/html": [
       "<div>\n",
       "<style scoped>\n",
       "    .dataframe tbody tr th:only-of-type {\n",
       "        vertical-align: middle;\n",
       "    }\n",
       "\n",
       "    .dataframe tbody tr th {\n",
       "        vertical-align: top;\n",
       "    }\n",
       "\n",
       "    .dataframe thead th {\n",
       "        text-align: right;\n",
       "    }\n",
       "</style>\n",
       "<table border=\"1\" class=\"dataframe\">\n",
       "  <thead>\n",
       "    <tr style=\"text-align: right;\">\n",
       "      <th></th>\n",
       "      <th>plant_id</th>\n",
       "      <th>daily_capacity</th>\n",
       "    </tr>\n",
       "  </thead>\n",
       "  <tbody>\n",
       "    <tr>\n",
       "      <th>0</th>\n",
       "      <td>PLANT15</td>\n",
       "      <td>11</td>\n",
       "    </tr>\n",
       "    <tr>\n",
       "      <th>1</th>\n",
       "      <td>PLANT17</td>\n",
       "      <td>8</td>\n",
       "    </tr>\n",
       "    <tr>\n",
       "      <th>2</th>\n",
       "      <td>PLANT18</td>\n",
       "      <td>111</td>\n",
       "    </tr>\n",
       "  </tbody>\n",
       "</table>\n",
       "</div>"
      ],
      "text/plain": [
       "  plant_id  daily_capacity\n",
       "0  PLANT15              11\n",
       "1  PLANT17               8\n",
       "2  PLANT18             111"
      ]
     },
     "execution_count": 15,
     "metadata": {},
     "output_type": "execute_result"
    }
   ],
   "source": [
    "\n",
    "wh_capacities.head(3)"
   ]
  },
  {
   "cell_type": "code",
   "execution_count": null,
   "id": "267ab3a5",
   "metadata": {},
   "outputs": [],
   "source": [
    "\n"
   ]
  },
  {
   "cell_type": "code",
   "execution_count": 10,
   "id": "93a9383d",
   "metadata": {},
   "outputs": [],
   "source": []
  },
  {
   "cell_type": "code",
   "execution_count": null,
   "id": "3f9db9b1",
   "metadata": {},
   "outputs": [],
   "source": []
  },
  {
   "cell_type": "code",
   "execution_count": null,
   "id": "d65ca12d",
   "metadata": {},
   "outputs": [],
   "source": []
  },
  {
   "cell_type": "markdown",
   "id": "d810fd23",
   "metadata": {},
   "source": [
    "\n",
    "\n",
    "Order ID is ID of the order made by the customer, product ID is the specific product ID customer ordered.\n",
    "\n",
    "\n",
    "\n",
    "\"tpt_day_cnt\" in the FrieghtRates table means transportation day count, i.e. estimated shipping time.\n",
    "\n",
    "\n",
    "\n",
    "WhCapacities correspond to the number of orders. For example, let's say Customer 1 requests 10 units of X, Customer 2 requests 20 units of Y. The total number of orders is 2, thus total capacity in \"whCapacity\" is 2.\n",
    "\n",
    "\n",
    "\n",
    "WhCapacities table is the maximum number of orders that can be processed per each plant, it is not dependant on specific products.\n",
    "\n",
    "\n",
    "\n",
    "The OrderList contains historical records of how the orders were routed and demand satisfied. The whCapacities and rest of the tables are the current state constraints of the network. Thus, we can calculate the costs of historical network and also optimize for the new constraints.\n",
    "\n",
    "\n",
    "\n",
    "In order to build Linear Programming (LP) model, you would take the following from the OrderList: the product ID that needs to be shipped, the destination port, unit quantity (for cost) and unit weight (for weight constraints). And then use the limits of those constraints from other tables.\n",
    "\n",
    "\n",
    "\n",
    "Questions: There is a Carrier V44_3 in OrderList table, but it is missing in the FreightRates table? V44_3 is a carrier that was historically used for supplying given demand, but since it has been discontinued and therefore do not appear in the Freight Rates List. Also, all of the V44_3 instances are CRF - i.e. customer arranges their own shipping and hence cost is not calculated either way.\n",
    "\n"
   ]
  },
  {
   "cell_type": "markdown",
   "id": "a97ed092",
   "metadata": {},
   "source": [
    "# Date Range of Dataset:\n",
    "##### Split from __ to __ to get a 80/20 split for test and training sets\n",
    "## Questions (EDA):\n",
    "\n",
    "## Questions (ML):\n",
    "* How much growth by region(?) will we see by __"
   ]
  },
  {
   "cell_type": "code",
   "execution_count": null,
   "id": "fccc4b39",
   "metadata": {},
   "outputs": [],
   "source": []
  },
  {
   "cell_type": "code",
   "execution_count": null,
   "id": "1ee21f99",
   "metadata": {},
   "outputs": [],
   "source": []
  },
  {
   "cell_type": "code",
   "execution_count": null,
   "id": "f3ad2ca1",
   "metadata": {},
   "outputs": [],
   "source": []
  },
  {
   "cell_type": "code",
   "execution_count": null,
   "id": "86ea38dd",
   "metadata": {},
   "outputs": [],
   "source": []
  }
 ],
 "metadata": {
  "kernelspec": {
   "display_name": "Python 3",
   "language": "python",
   "name": "python3"
  },
  "language_info": {
   "codemirror_mode": {
    "name": "ipython",
    "version": 3
   },
   "file_extension": ".py",
   "mimetype": "text/x-python",
   "name": "python",
   "nbconvert_exporter": "python",
   "pygments_lexer": "ipython3",
   "version": "3.11.7"
  }
 },
 "nbformat": 4,
 "nbformat_minor": 5
}
