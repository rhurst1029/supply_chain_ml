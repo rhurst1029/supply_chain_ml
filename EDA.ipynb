{
 "cells": [
  {
   "cell_type": "markdown",
   "id": "70ab211b",
   "metadata": {},
   "source": [
    "# Importing Packages"
   ]
  },
  {
   "cell_type": "code",
   "execution_count": 1,
   "id": "e4323230",
   "metadata": {},
   "outputs": [
    {
     "name": "stdout",
     "output_type": "stream",
     "text": [
      "Requirement already satisfied: pandas>=2.0.0 in /usr/local/anaconda3/lib/python3.11/site-packages (from -r requirements.txt (line 1)) (2.1.4)\n",
      "Requirement already satisfied: numpy>=1.24.0 in /usr/local/anaconda3/lib/python3.11/site-packages (from -r requirements.txt (line 2)) (1.26.4)\n",
      "Requirement already satisfied: seaborn>=0.12.0 in /usr/local/anaconda3/lib/python3.11/site-packages (from -r requirements.txt (line 3)) (0.12.2)\n",
      "Requirement already satisfied: matplotlib>=3.7.0 in /usr/local/anaconda3/lib/python3.11/site-packages (from -r requirements.txt (line 4)) (3.8.0)\n",
      "Requirement already satisfied: statsmodels>=0.14.0 in /usr/local/anaconda3/lib/python3.11/site-packages (from -r requirements.txt (line 5)) (0.14.0)\n",
      "Collecting scikit-learn>=1.3.0 (from -r requirements.txt (line 6))\n",
      "  Using cached scikit_learn-1.6.1-cp311-cp311-macosx_10_9_x86_64.whl.metadata (31 kB)\n",
      "Collecting plotly>=5.18.0 (from -r requirements.txt (line 7))\n",
      "  Using cached plotly-6.0.1-py3-none-any.whl.metadata (6.7 kB)\n",
      "Collecting ortools>=9.7.0 (from -r requirements.txt (line 8))\n",
      "  Using cached ortools-9.12.4544-cp311-cp311-macosx_10_15_x86_64.whl.metadata (3.1 kB)\n",
      "Requirement already satisfied: scipy>=1.11.0 in /usr/local/anaconda3/lib/python3.11/site-packages (from -r requirements.txt (line 9)) (1.11.4)\n",
      "Collecting kagglehub>=0.1.5 (from -r requirements.txt (line 10))\n",
      "  Using cached kagglehub-0.3.11-py3-none-any.whl.metadata (32 kB)\n",
      "Requirement already satisfied: python-dateutil>=2.8.2 in /usr/local/anaconda3/lib/python3.11/site-packages (from pandas>=2.0.0->-r requirements.txt (line 1)) (2.8.2)\n",
      "Requirement already satisfied: pytz>=2020.1 in /usr/local/anaconda3/lib/python3.11/site-packages (from pandas>=2.0.0->-r requirements.txt (line 1)) (2023.3.post1)\n",
      "Requirement already satisfied: tzdata>=2022.1 in /usr/local/anaconda3/lib/python3.11/site-packages (from pandas>=2.0.0->-r requirements.txt (line 1)) (2023.3)\n",
      "Requirement already satisfied: contourpy>=1.0.1 in /usr/local/anaconda3/lib/python3.11/site-packages (from matplotlib>=3.7.0->-r requirements.txt (line 4)) (1.2.0)\n",
      "Requirement already satisfied: cycler>=0.10 in /usr/local/anaconda3/lib/python3.11/site-packages (from matplotlib>=3.7.0->-r requirements.txt (line 4)) (0.11.0)\n",
      "Requirement already satisfied: fonttools>=4.22.0 in /usr/local/anaconda3/lib/python3.11/site-packages (from matplotlib>=3.7.0->-r requirements.txt (line 4)) (4.25.0)\n",
      "Requirement already satisfied: kiwisolver>=1.0.1 in /usr/local/anaconda3/lib/python3.11/site-packages (from matplotlib>=3.7.0->-r requirements.txt (line 4)) (1.4.4)\n",
      "Requirement already satisfied: packaging>=20.0 in /usr/local/anaconda3/lib/python3.11/site-packages (from matplotlib>=3.7.0->-r requirements.txt (line 4)) (23.1)\n",
      "Requirement already satisfied: pillow>=6.2.0 in /usr/local/anaconda3/lib/python3.11/site-packages (from matplotlib>=3.7.0->-r requirements.txt (line 4)) (10.2.0)\n",
      "Requirement already satisfied: pyparsing>=2.3.1 in /usr/local/anaconda3/lib/python3.11/site-packages (from matplotlib>=3.7.0->-r requirements.txt (line 4)) (3.0.9)\n",
      "Requirement already satisfied: patsy>=0.5.2 in /usr/local/anaconda3/lib/python3.11/site-packages (from statsmodels>=0.14.0->-r requirements.txt (line 5)) (0.5.3)\n",
      "Requirement already satisfied: joblib>=1.2.0 in /usr/local/anaconda3/lib/python3.11/site-packages (from scikit-learn>=1.3.0->-r requirements.txt (line 6)) (1.2.0)\n",
      "Collecting threadpoolctl>=3.1.0 (from scikit-learn>=1.3.0->-r requirements.txt (line 6))\n",
      "  Using cached threadpoolctl-3.6.0-py3-none-any.whl.metadata (13 kB)\n",
      "Collecting narwhals>=1.15.1 (from plotly>=5.18.0->-r requirements.txt (line 7))\n",
      "  Using cached narwhals-1.33.0-py3-none-any.whl.metadata (9.2 kB)\n",
      "Collecting absl-py>=2.0.0 (from ortools>=9.7.0->-r requirements.txt (line 8))\n",
      "  Using cached absl_py-2.2.2-py3-none-any.whl.metadata (2.6 kB)\n",
      "Collecting protobuf<5.30,>=5.29.3 (from ortools>=9.7.0->-r requirements.txt (line 8))\n",
      "  Using cached protobuf-5.29.4-cp38-abi3-macosx_10_9_universal2.whl.metadata (592 bytes)\n",
      "Collecting immutabledict>=3.0.0 (from ortools>=9.7.0->-r requirements.txt (line 8))\n",
      "  Using cached immutabledict-4.2.1-py3-none-any.whl.metadata (3.5 kB)\n",
      "Requirement already satisfied: pyyaml in /usr/local/anaconda3/lib/python3.11/site-packages (from kagglehub>=0.1.5->-r requirements.txt (line 10)) (6.0.1)\n",
      "Requirement already satisfied: requests in /usr/local/anaconda3/lib/python3.11/site-packages (from kagglehub>=0.1.5->-r requirements.txt (line 10)) (2.31.0)\n",
      "Requirement already satisfied: tqdm in /usr/local/anaconda3/lib/python3.11/site-packages (from kagglehub>=0.1.5->-r requirements.txt (line 10)) (4.65.0)\n",
      "Requirement already satisfied: six in /usr/local/anaconda3/lib/python3.11/site-packages (from patsy>=0.5.2->statsmodels>=0.14.0->-r requirements.txt (line 5)) (1.16.0)\n",
      "Requirement already satisfied: charset-normalizer<4,>=2 in /usr/local/anaconda3/lib/python3.11/site-packages (from requests->kagglehub>=0.1.5->-r requirements.txt (line 10)) (2.0.4)\n",
      "Requirement already satisfied: idna<4,>=2.5 in /usr/local/anaconda3/lib/python3.11/site-packages (from requests->kagglehub>=0.1.5->-r requirements.txt (line 10)) (3.4)\n",
      "Requirement already satisfied: urllib3<3,>=1.21.1 in /usr/local/anaconda3/lib/python3.11/site-packages (from requests->kagglehub>=0.1.5->-r requirements.txt (line 10)) (2.0.7)\n",
      "Requirement already satisfied: certifi>=2017.4.17 in /usr/local/anaconda3/lib/python3.11/site-packages (from requests->kagglehub>=0.1.5->-r requirements.txt (line 10)) (2024.2.2)\n",
      "Using cached scikit_learn-1.6.1-cp311-cp311-macosx_10_9_x86_64.whl (12.1 MB)\n",
      "Using cached plotly-6.0.1-py3-none-any.whl (14.8 MB)\n",
      "Using cached ortools-9.12.4544-cp311-cp311-macosx_10_15_x86_64.whl (20.4 MB)\n",
      "Using cached kagglehub-0.3.11-py3-none-any.whl (63 kB)\n",
      "Using cached absl_py-2.2.2-py3-none-any.whl (135 kB)\n",
      "Using cached immutabledict-4.2.1-py3-none-any.whl (4.7 kB)\n",
      "Using cached narwhals-1.33.0-py3-none-any.whl (322 kB)\n",
      "Using cached protobuf-5.29.4-cp38-abi3-macosx_10_9_universal2.whl (417 kB)\n",
      "Using cached threadpoolctl-3.6.0-py3-none-any.whl (18 kB)\n",
      "Installing collected packages: threadpoolctl, protobuf, narwhals, immutabledict, absl-py, scikit-learn, plotly, kagglehub, ortools\n",
      "  Attempting uninstall: threadpoolctl\n",
      "    Found existing installation: threadpoolctl 2.2.0\n",
      "    Uninstalling threadpoolctl-2.2.0:\n",
      "      Successfully uninstalled threadpoolctl-2.2.0\n",
      "  Attempting uninstall: protobuf\n",
      "    Found existing installation: protobuf 3.20.3\n",
      "    Uninstalling protobuf-3.20.3:\n",
      "      Successfully uninstalled protobuf-3.20.3\n",
      "  Attempting uninstall: scikit-learn\n",
      "    Found existing installation: scikit-learn 1.2.2\n",
      "    Uninstalling scikit-learn-1.2.2:\n",
      "      Successfully uninstalled scikit-learn-1.2.2\n",
      "  Attempting uninstall: plotly\n",
      "    Found existing installation: plotly 5.9.0\n",
      "    Uninstalling plotly-5.9.0:\n",
      "      Successfully uninstalled plotly-5.9.0\n",
      "\u001b[31mERROR: pip's dependency resolver does not currently take into account all the packages that are installed. This behaviour is the source of the following dependency conflicts.\n",
      "streamlit 1.30.0 requires protobuf<5,>=3.20, but you have protobuf 5.29.4 which is incompatible.\u001b[0m\u001b[31m\n",
      "\u001b[0mSuccessfully installed absl-py-2.2.2 immutabledict-4.2.1 kagglehub-0.3.11 narwhals-1.33.0 ortools-9.12.4544 plotly-6.0.1 protobuf-5.29.4 scikit-learn-1.6.1 threadpoolctl-3.6.0\n"
     ]
    }
   ],
   "source": [
    "!pip install -r requirements.txt"
   ]
  },
  {
   "cell_type": "code",
   "execution_count": 2,
   "id": "bd2cf5c0",
   "metadata": {},
   "outputs": [],
   "source": [
    "import pandas as pd\n",
    "import numpy as np\n",
    "import seaborn as sns\n",
    "import matplotlib.pyplot as plt\n",
    "import statsmodels.api as sm\n",
    "import datetime as dt\n",
    "from sklearn.discriminant_analysis import LinearDiscriminantAnalysis,QuadraticDiscriminantAnalysis\n",
    "from sklearn.metrics import confusion_matrix\n",
    "from sklearn.model_selection import train_test_split\n",
    "from sklearn.naive_bayes import GaussianNB\n",
    "from sklearn import preprocessing\n",
    "from sklearn import model_selection\n",
    "from sklearn.tree import DecisionTreeRegressor\n",
    "from sklearn.metrics import roc_auc_score,r2_score,mean_absolute_error,mean_squared_error,accuracy_score,classification_report,confusion_matrix\n",
    "from sklearn.model_selection import train_test_split,cross_val_score, cross_val_predict\n",
    "from sklearn import svm,metrics,tree,preprocessing,linear_model\n",
    "from sklearn.preprocessing import MinMaxScaler,StandardScaler\n",
    "from sklearn.neighbors import KNeighborsClassifier\n",
    "from sklearn.linear_model import LinearRegression,LogisticRegression\n",
    "from sklearn.ensemble import RandomForestRegressor,RandomForestClassifier, GradientBoostingRegressor\n",
    "from sklearn.metrics import accuracy_score,mean_squared_error,recall_score,confusion_matrix,f1_score,roc_curve, auc\n",
    "from plotly.offline import iplot, init_notebook_mode\n",
    "import pickle\n",
    "import warnings\n",
    "warnings.filterwarnings(\"ignore\") \n",
    "import datetime as dt\n",
    "from datetime import datetime\n",
    "import plotly.express as px\n",
    "import ortools.constraint_solver\n",
    "from ortools.constraint_solver import routing_enums_pb2\n",
    "from ortools.constraint_solver import pywrapcp\n",
    "from scipy.optimize import linprog\n",
    "from pylab import rcParams\n",
    "import scipy\n",
    "from scipy.stats.stats import pearsonr\n",
    "import seaborn as sb\n",
    "from sklearn.preprocessing import LabelEncoder\n",
    "from sklearn.preprocessing import StandardScaler\n",
    "from sklearn.model_selection import train_test_split\n",
    "import seaborn as sns\n",
    "import matplotlib.pyplot as plt\n",
    "from sklearn import preprocessing\n",
    "from sklearn import utils\n",
    "from sklearn.metrics import top_k_accuracy_score\n",
    "from sklearn.metrics import classification_report"
   ]
  },
  {
   "cell_type": "markdown",
   "id": "49af9abb",
   "metadata": {},
   "source": [
    "# Importing datadests"
   ]
  },
  {
   "cell_type": "code",
   "execution_count": 15,
   "id": "44c1acb8",
   "metadata": {},
   "outputs": [
    {
     "name": "stdout",
     "output_type": "stream",
     "text": [
      "['EDA.ipynb', 'requirements.txt', 'README.md', '.venv', '.ipynb_checkpoints', 'Supply chain logisitcs problem.xlsx', 'venv', '.git', '.vscode']\n"
     ]
    }
   ],
   "source": [
    "import os\n",
    "print([i for i in os.listdir('./')])"
   ]
  },
  {
   "cell_type": "code",
   "execution_count": 16,
   "id": "0306d050-23ac-4347-ad08-7eddebb34438",
   "metadata": {},
   "outputs": [],
   "source": [
    "filename = 'Supply chain logisitcs problem.xlsx'\n",
    "# import kagglehub\n",
    "# # Download latest version\n",
    "# path = kagglehub.dataset_download(\"harshsingh2209/supply-chain-analysis\")\n",
    "# MPSCData=pd.read_csv(\"/kaggle/input/supply-chain-analysis/supply_chain_data.csv\")"
   ]
  },
  {
   "cell_type": "code",
   "execution_count": 18,
   "id": "f4286b9c",
   "metadata": {},
   "outputs": [
    {
     "name": "stdout",
     "output_type": "stream",
     "text": [
      "['OrderList', 'FreightRates', 'WhCosts', 'WhCapacities', 'ProductsPerPlant', 'VmiCustomers', 'PlantPorts']\n"
     ]
    }
   ],
   "source": [
    "import pandas as pd\n",
    "\n",
    "sheet_names = pd.ExcelFile(filename).sheet_names\n",
    "\n",
    "print(sheet_names)"
   ]
  },
  {
   "cell_type": "markdown",
   "id": "dcd04556",
   "metadata": {},
   "source": [
    "## Dataset is divided into 7 tables:\n",
    "* __OrderList__ is all orders that needs to be assigned a route – OrderList table, and 6 additional files specifying the problem and restrictions. \n",
    "* __FreightRates__ describes all available couriers, the weight gaps for each individual lane and rates associated. \n",
    "* __PlantPorts__ describes the allowed links between the warehouses and shipping ports in real world. \n",
    "* __ProductsPerPlant__ table lists all supported warehouse-product combinations. \n",
    "* __WhCapacities__ lists warehouse capacities measured in number of orders per day \n",
    "* __WhCosts__ specifies the cost associated in storing the products in given warehouse measured in dollars per unit.\n",
    "* __VmiCustomers__ lists all special cases, where warehouse is only allowed to support specific customer, while any other non-listed warehouse can supply any customer."
   ]
  },
  {
   "cell_type": "code",
   "execution_count": 21,
   "id": "54f2d2cd",
   "metadata": {},
   "outputs": [],
   "source": [
    "orders = pd.read_excel('Supply chain logisitcs problem.xlsx', sheet_name=sheet_names[0])\n",
    "##"
   ]
  },
  {
   "cell_type": "code",
   "execution_count": 23,
   "id": "a8fd4cf4",
   "metadata": {},
   "outputs": [
    {
     "data": {
      "text/html": [
       "<div>\n",
       "<style scoped>\n",
       "    .dataframe tbody tr th:only-of-type {\n",
       "        vertical-align: middle;\n",
       "    }\n",
       "\n",
       "    .dataframe tbody tr th {\n",
       "        vertical-align: top;\n",
       "    }\n",
       "\n",
       "    .dataframe thead th {\n",
       "        text-align: right;\n",
       "    }\n",
       "</style>\n",
       "<table border=\"1\" class=\"dataframe\">\n",
       "  <thead>\n",
       "    <tr style=\"text-align: right;\">\n",
       "      <th></th>\n",
       "      <th>Carrier</th>\n",
       "      <th>orig_port_cd</th>\n",
       "      <th>dest_port_cd</th>\n",
       "      <th>minm_wgh_qty</th>\n",
       "      <th>max_wgh_qty</th>\n",
       "      <th>svc_cd</th>\n",
       "      <th>minimum cost</th>\n",
       "      <th>rate</th>\n",
       "      <th>mode_dsc</th>\n",
       "      <th>tpt_day_cnt</th>\n",
       "      <th>Carrier type</th>\n",
       "    </tr>\n",
       "  </thead>\n",
       "  <tbody>\n",
       "    <tr>\n",
       "      <th>0</th>\n",
       "      <td>V444_6</td>\n",
       "      <td>PORT08</td>\n",
       "      <td>PORT09</td>\n",
       "      <td>250.0</td>\n",
       "      <td>499.99</td>\n",
       "      <td>DTD</td>\n",
       "      <td>43.2272</td>\n",
       "      <td>0.7132</td>\n",
       "      <td>AIR</td>\n",
       "      <td>2</td>\n",
       "      <td>V88888888_0</td>\n",
       "    </tr>\n",
       "    <tr>\n",
       "      <th>1</th>\n",
       "      <td>V444_6</td>\n",
       "      <td>PORT08</td>\n",
       "      <td>PORT09</td>\n",
       "      <td>65.0</td>\n",
       "      <td>69.99</td>\n",
       "      <td>DTD</td>\n",
       "      <td>43.2272</td>\n",
       "      <td>0.7512</td>\n",
       "      <td>AIR</td>\n",
       "      <td>2</td>\n",
       "      <td>V88888888_0</td>\n",
       "    </tr>\n",
       "    <tr>\n",
       "      <th>2</th>\n",
       "      <td>V444_6</td>\n",
       "      <td>PORT08</td>\n",
       "      <td>PORT09</td>\n",
       "      <td>60.0</td>\n",
       "      <td>64.99</td>\n",
       "      <td>DTD</td>\n",
       "      <td>43.2272</td>\n",
       "      <td>0.7892</td>\n",
       "      <td>AIR</td>\n",
       "      <td>2</td>\n",
       "      <td>V88888888_0</td>\n",
       "    </tr>\n",
       "  </tbody>\n",
       "</table>\n",
       "</div>"
      ],
      "text/plain": [
       "  Carrier orig_port_cd dest_port_cd  minm_wgh_qty  max_wgh_qty svc_cd  \\\n",
       "0  V444_6       PORT08       PORT09         250.0       499.99    DTD   \n",
       "1  V444_6       PORT08       PORT09          65.0        69.99    DTD   \n",
       "2  V444_6       PORT08       PORT09          60.0        64.99    DTD   \n",
       "\n",
       "   minimum cost    rate mode_dsc  tpt_day_cnt Carrier type  \n",
       "0       43.2272  0.7132   AIR               2  V88888888_0  \n",
       "1       43.2272  0.7512   AIR               2  V88888888_0  \n",
       "2       43.2272  0.7892   AIR               2  V88888888_0  "
      ]
     },
     "execution_count": 23,
     "metadata": {},
     "output_type": "execute_result"
    }
   ],
   "source": [
    "pd.read_excel('Supply chain logisitcs problem.xlsx', sheet_name=sheet_names[1]).head(3)"
   ]
  },
  {
   "cell_type": "code",
   "execution_count": 25,
   "id": "3f9db9b1",
   "metadata": {},
   "outputs": [
    {
     "data": {
      "text/html": [
       "<div>\n",
       "<style scoped>\n",
       "    .dataframe tbody tr th:only-of-type {\n",
       "        vertical-align: middle;\n",
       "    }\n",
       "\n",
       "    .dataframe tbody tr th {\n",
       "        vertical-align: top;\n",
       "    }\n",
       "\n",
       "    .dataframe thead th {\n",
       "        text-align: right;\n",
       "    }\n",
       "</style>\n",
       "<table border=\"1\" class=\"dataframe\">\n",
       "  <thead>\n",
       "    <tr style=\"text-align: right;\">\n",
       "      <th></th>\n",
       "      <th>WH</th>\n",
       "      <th>Cost/unit</th>\n",
       "    </tr>\n",
       "  </thead>\n",
       "  <tbody>\n",
       "    <tr>\n",
       "      <th>0</th>\n",
       "      <td>PLANT15</td>\n",
       "      <td>1.415063</td>\n",
       "    </tr>\n",
       "    <tr>\n",
       "      <th>1</th>\n",
       "      <td>PLANT17</td>\n",
       "      <td>0.428947</td>\n",
       "    </tr>\n",
       "    <tr>\n",
       "      <th>2</th>\n",
       "      <td>PLANT18</td>\n",
       "      <td>2.036254</td>\n",
       "    </tr>\n",
       "  </tbody>\n",
       "</table>\n",
       "</div>"
      ],
      "text/plain": [
       "        WH  Cost/unit\n",
       "0  PLANT15   1.415063\n",
       "1  PLANT17   0.428947\n",
       "2  PLANT18   2.036254"
      ]
     },
     "execution_count": 25,
     "metadata": {},
     "output_type": "execute_result"
    }
   ],
   "source": [
    "pd.read_excel('Supply chain logisitcs problem.xlsx', sheet_name=sheet_names[2]).head(3)"
   ]
  },
  {
   "cell_type": "code",
   "execution_count": 26,
   "id": "e4942d28",
   "metadata": {},
   "outputs": [
    {
     "data": {
      "text/html": [
       "<div>\n",
       "<style scoped>\n",
       "    .dataframe tbody tr th:only-of-type {\n",
       "        vertical-align: middle;\n",
       "    }\n",
       "\n",
       "    .dataframe tbody tr th {\n",
       "        vertical-align: top;\n",
       "    }\n",
       "\n",
       "    .dataframe thead th {\n",
       "        text-align: right;\n",
       "    }\n",
       "</style>\n",
       "<table border=\"1\" class=\"dataframe\">\n",
       "  <thead>\n",
       "    <tr style=\"text-align: right;\">\n",
       "      <th></th>\n",
       "      <th>Plant ID</th>\n",
       "      <th>Daily Capacity</th>\n",
       "    </tr>\n",
       "  </thead>\n",
       "  <tbody>\n",
       "    <tr>\n",
       "      <th>0</th>\n",
       "      <td>PLANT15</td>\n",
       "      <td>11</td>\n",
       "    </tr>\n",
       "    <tr>\n",
       "      <th>1</th>\n",
       "      <td>PLANT17</td>\n",
       "      <td>8</td>\n",
       "    </tr>\n",
       "    <tr>\n",
       "      <th>2</th>\n",
       "      <td>PLANT18</td>\n",
       "      <td>111</td>\n",
       "    </tr>\n",
       "  </tbody>\n",
       "</table>\n",
       "</div>"
      ],
      "text/plain": [
       "  Plant ID  Daily Capacity \n",
       "0  PLANT15               11\n",
       "1  PLANT17                8\n",
       "2  PLANT18              111"
      ]
     },
     "execution_count": 26,
     "metadata": {},
     "output_type": "execute_result"
    }
   ],
   "source": [
    "pd.read_excel('Supply chain logisitcs problem.xlsx', sheet_name=sheet_names[3]).head(3)\n"
   ]
  },
  {
   "cell_type": "code",
   "execution_count": 27,
   "id": "ce603e0e",
   "metadata": {},
   "outputs": [
    {
     "data": {
      "text/html": [
       "<div>\n",
       "<style scoped>\n",
       "    .dataframe tbody tr th:only-of-type {\n",
       "        vertical-align: middle;\n",
       "    }\n",
       "\n",
       "    .dataframe tbody tr th {\n",
       "        vertical-align: top;\n",
       "    }\n",
       "\n",
       "    .dataframe thead th {\n",
       "        text-align: right;\n",
       "    }\n",
       "</style>\n",
       "<table border=\"1\" class=\"dataframe\">\n",
       "  <thead>\n",
       "    <tr style=\"text-align: right;\">\n",
       "      <th></th>\n",
       "      <th>Plant Code</th>\n",
       "      <th>Product ID</th>\n",
       "    </tr>\n",
       "  </thead>\n",
       "  <tbody>\n",
       "    <tr>\n",
       "      <th>0</th>\n",
       "      <td>PLANT15</td>\n",
       "      <td>1698815</td>\n",
       "    </tr>\n",
       "    <tr>\n",
       "      <th>1</th>\n",
       "      <td>PLANT17</td>\n",
       "      <td>1664419</td>\n",
       "    </tr>\n",
       "    <tr>\n",
       "      <th>2</th>\n",
       "      <td>PLANT17</td>\n",
       "      <td>1664426</td>\n",
       "    </tr>\n",
       "  </tbody>\n",
       "</table>\n",
       "</div>"
      ],
      "text/plain": [
       "  Plant Code  Product ID\n",
       "0    PLANT15     1698815\n",
       "1    PLANT17     1664419\n",
       "2    PLANT17     1664426"
      ]
     },
     "execution_count": 27,
     "metadata": {},
     "output_type": "execute_result"
    }
   ],
   "source": [
    "pd.read_excel('Supply chain logisitcs problem.xlsx', sheet_name=sheet_names[4]).head(3)\n"
   ]
  },
  {
   "cell_type": "code",
   "execution_count": 28,
   "id": "d65ca12d",
   "metadata": {},
   "outputs": [
    {
     "data": {
      "text/html": [
       "<div>\n",
       "<style scoped>\n",
       "    .dataframe tbody tr th:only-of-type {\n",
       "        vertical-align: middle;\n",
       "    }\n",
       "\n",
       "    .dataframe tbody tr th {\n",
       "        vertical-align: top;\n",
       "    }\n",
       "\n",
       "    .dataframe thead th {\n",
       "        text-align: right;\n",
       "    }\n",
       "</style>\n",
       "<table border=\"1\" class=\"dataframe\">\n",
       "  <thead>\n",
       "    <tr style=\"text-align: right;\">\n",
       "      <th></th>\n",
       "      <th>Plant Code</th>\n",
       "      <th>Customers</th>\n",
       "    </tr>\n",
       "  </thead>\n",
       "  <tbody>\n",
       "    <tr>\n",
       "      <th>0</th>\n",
       "      <td>PLANT02</td>\n",
       "      <td>V5555555555555_16</td>\n",
       "    </tr>\n",
       "    <tr>\n",
       "      <th>1</th>\n",
       "      <td>PLANT02</td>\n",
       "      <td>V555555555555555_29</td>\n",
       "    </tr>\n",
       "    <tr>\n",
       "      <th>2</th>\n",
       "      <td>PLANT02</td>\n",
       "      <td>V555555555_3</td>\n",
       "    </tr>\n",
       "  </tbody>\n",
       "</table>\n",
       "</div>"
      ],
      "text/plain": [
       "  Plant Code            Customers\n",
       "0    PLANT02    V5555555555555_16\n",
       "1    PLANT02  V555555555555555_29\n",
       "2    PLANT02         V555555555_3"
      ]
     },
     "execution_count": 28,
     "metadata": {},
     "output_type": "execute_result"
    }
   ],
   "source": [
    "pd.read_excel('Supply chain logisitcs problem.xlsx', sheet_name=sheet_names[5]).head(3)"
   ]
  },
  {
   "cell_type": "code",
   "execution_count": 32,
   "id": "e685196a",
   "metadata": {},
   "outputs": [
    {
     "data": {
      "text/html": [
       "<div>\n",
       "<style scoped>\n",
       "    .dataframe tbody tr th:only-of-type {\n",
       "        vertical-align: middle;\n",
       "    }\n",
       "\n",
       "    .dataframe tbody tr th {\n",
       "        vertical-align: top;\n",
       "    }\n",
       "\n",
       "    .dataframe thead th {\n",
       "        text-align: right;\n",
       "    }\n",
       "</style>\n",
       "<table border=\"1\" class=\"dataframe\">\n",
       "  <thead>\n",
       "    <tr style=\"text-align: right;\">\n",
       "      <th></th>\n",
       "      <th>Plant Code</th>\n",
       "      <th>Port</th>\n",
       "    </tr>\n",
       "  </thead>\n",
       "  <tbody>\n",
       "    <tr>\n",
       "      <th>0</th>\n",
       "      <td>PLANT01</td>\n",
       "      <td>PORT01</td>\n",
       "    </tr>\n",
       "    <tr>\n",
       "      <th>1</th>\n",
       "      <td>PLANT01</td>\n",
       "      <td>PORT02</td>\n",
       "    </tr>\n",
       "    <tr>\n",
       "      <th>2</th>\n",
       "      <td>PLANT02</td>\n",
       "      <td>PORT03</td>\n",
       "    </tr>\n",
       "  </tbody>\n",
       "</table>\n",
       "</div>"
      ],
      "text/plain": [
       "  Plant Code    Port\n",
       "0    PLANT01  PORT01\n",
       "1    PLANT01  PORT02\n",
       "2    PLANT02  PORT03"
      ]
     },
     "execution_count": 32,
     "metadata": {},
     "output_type": "execute_result"
    }
   ],
   "source": [
    "\n",
    "pd.read_excel('Supply chain logisitcs problem.xlsx', sheet_name=sheet_names[6]).head(3)"
   ]
  },
  {
   "cell_type": "markdown",
   "id": "d810fd23",
   "metadata": {},
   "source": [
    "\n",
    "\n",
    "Order ID is ID of the order made by the customer, product ID is the specific product ID customer ordered.\n",
    "\n",
    "\n",
    "\n",
    "\"tpt_day_cnt\" in the FrieghtRates table means transportation day count, i.e. estimated shipping time.\n",
    "\n",
    "\n",
    "\n",
    "WhCapacities correspond to the number of orders. For example, let's say Customer 1 requests 10 units of X, Customer 2 requests 20 units of Y. The total number of orders is 2, thus total capacity in \"whCapacity\" is 2.\n",
    "\n",
    "\n",
    "\n",
    "WhCapacities table is the maximum number of orders that can be processed per each plant, it is not dependant on specific products.\n",
    "\n",
    "\n",
    "\n",
    "The OrderList contains historical records of how the orders were routed and demand satisfied. The whCapacities and rest of the tables are the current state constraints of the network. Thus, we can calculate the costs of historical network and also optimize for the new constraints.\n",
    "\n",
    "\n",
    "\n",
    "In order to build Linear Programming (LP) model, you would take the following from the OrderList: the product ID that needs to be shipped, the destination port, unit quantity (for cost) and unit weight (for weight constraints). And then use the limits of those constraints from other tables.\n",
    "\n",
    "\n",
    "\n",
    "Questions: There is a Carrier V44_3 in OrderList table, but it is missing in the FreightRates table? V44_3 is a carrier that was historically used for supplying given demand, but since it has been discontinued and therefore do not appear in the Freight Rates List. Also, all of the V44_3 instances are CRF - i.e. customer arranges their own shipping and hence cost is not calculated either way.\n",
    "\n"
   ]
  },
  {
   "cell_type": "markdown",
   "id": "a97ed092",
   "metadata": {},
   "source": [
    "# Date Range of Dataset:\n",
    "##### Split from __ to __ to get a 80/20 split for test and training sets\n",
    "## Questions (EDA):\n",
    "\n",
    "## Questions (ML):\n",
    "* How much growth by region(?) will we see by __"
   ]
  },
  {
   "cell_type": "code",
   "execution_count": 17,
   "id": "fccc4b39",
   "metadata": {},
   "outputs": [
    {
     "name": "stdout",
     "output_type": "stream",
     "text": [
      "['OrderList', 'FreightRates', 'WhCosts', 'WhCapacities', 'ProductsPerPlant', 'VmiCustomers', 'PlantPorts']\n"
     ]
    }
   ],
   "source": []
  },
  {
   "cell_type": "code",
   "execution_count": null,
   "id": "1ee21f99",
   "metadata": {},
   "outputs": [],
   "source": []
  },
  {
   "cell_type": "code",
   "execution_count": null,
   "id": "f3ad2ca1",
   "metadata": {},
   "outputs": [],
   "source": []
  },
  {
   "cell_type": "code",
   "execution_count": null,
   "id": "86ea38dd",
   "metadata": {},
   "outputs": [],
   "source": []
  }
 ],
 "metadata": {
  "kernelspec": {
   "display_name": "Python 3",
   "language": "python",
   "name": "python3"
  },
  "language_info": {
   "codemirror_mode": {
    "name": "ipython",
    "version": 3
   },
   "file_extension": ".py",
   "mimetype": "text/x-python",
   "name": "python",
   "nbconvert_exporter": "python",
   "pygments_lexer": "ipython3",
   "version": "3.11.7"
  }
 },
 "nbformat": 4,
 "nbformat_minor": 5
}
